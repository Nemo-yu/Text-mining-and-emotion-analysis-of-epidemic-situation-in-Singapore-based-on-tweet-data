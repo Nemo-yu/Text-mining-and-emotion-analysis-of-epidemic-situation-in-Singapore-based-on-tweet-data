{
 "cells": [
  {
   "cell_type": "markdown",
   "metadata": {},
   "source": [
    "# Using Embeddings for News Classification (week 8)"
   ]
  },
  {
   "cell_type": "markdown",
   "metadata": {},
   "source": [
    "## Imports"
   ]
  },
  {
   "cell_type": "code",
   "execution_count": 1,
   "metadata": {},
   "outputs": [],
   "source": [
    "import os\n",
    "from argparse import Namespace\n",
    "from collections import Counter\n",
    "import json\n",
    "import re\n",
    "import string\n",
    "\n",
    "import numpy as np\n",
    "import pandas as pd\n",
    "import torch\n",
    "import torch.nn as nn\n",
    "import torch.nn.functional as F\n",
    "import torch.optim as optim\n",
    "from torch.utils.data import Dataset, DataLoader\n",
    "from tqdm.notebook import tqdm"
   ]
  },
  {
   "cell_type": "markdown",
   "metadata": {},
   "source": [
    "## Data Vectorization classes"
   ]
  },
  {
   "cell_type": "markdown",
   "metadata": {},
   "source": [
    "### The Vocabulary"
   ]
  },
  {
   "cell_type": "code",
   "execution_count": 2,
   "metadata": {},
   "outputs": [],
   "source": [
    "class Vocabulary(object):\n",
    "    \"\"\"Class to process text and extract vocabulary for mapping\"\"\"\n",
    "\n",
    "    def __init__(self, token_to_idx=None):\n",
    "        \"\"\"\n",
    "        Args:\n",
    "            token_to_idx (dict): a pre-existing map of tokens to indices\n",
    "        \"\"\"\n",
    "\n",
    "        # title_vocab._token_to_idx: {'<MASK>': 0, '<UNK>': 1, '<BEGIN>': 2, '<END>': 3, 'jobs': 4, 'tax': 5, 'cuts': 6,  \n",
    "        #                             ......, 'shiite': 3407, 'ghraib': 3408}\n",
    "        # category_vocab._token_to_idx: {'Business': 0, 'Sci/Tech': 1, 'Sports': 2, 'World': 3}\n",
    "        \n",
    "        if token_to_idx is None:\n",
    "            token_to_idx = {}\n",
    "        self._token_to_idx = token_to_idx\n",
    "\n",
    "        self._idx_to_token = {idx: token \n",
    "                              for token, idx in self._token_to_idx.items()}\n",
    "        \n",
    "    def add_token(self, token):\n",
    "        \"\"\"Update mapping dicts based on the token.\n",
    "\n",
    "        Args:\n",
    "            token (str): the item to add into the Vocabulary\n",
    "        Returns:\n",
    "            index (int): the integer corresponding to the token\n",
    "        \"\"\"\n",
    "        if token in self._token_to_idx:\n",
    "            index = self._token_to_idx[token]\n",
    "        else:\n",
    "            index = len(self._token_to_idx)\n",
    "            self._token_to_idx[token] = index\n",
    "            self._idx_to_token[index] = token\n",
    "        return index\n",
    "            \n",
    "    def lookup_token(self, token):\n",
    "        \"\"\"Retrieve the index associated with the token \n",
    "        \n",
    "        Args:\n",
    "            token (str): the token to look up \n",
    "        Returns:\n",
    "            index (int): the index corresponding to the token\n",
    "        \"\"\"\n",
    "        return self._token_to_idx[token]\n",
    "\n",
    "    def lookup_index(self, index):\n",
    "        \"\"\"Return the token associated with the index\n",
    "        \n",
    "        Args: \n",
    "            index (int): the index to look up\n",
    "        Returns:\n",
    "            token (str): the token corresponding to the index\n",
    "        Raises:\n",
    "            KeyError: if the index is not in the Vocabulary\n",
    "        \"\"\"\n",
    "        if index not in self._idx_to_token:\n",
    "            raise KeyError(\"the index (%d) is not in the Vocabulary\" % index)\n",
    "        return self._idx_to_token[index]\n",
    "\n",
    "    def __str__(self):\n",
    "        return \"<Vocabulary(size=%d)>\" % len(self)\n",
    "\n",
    "    def __len__(self):\n",
    "        return len(self._token_to_idx)"
   ]
  },
  {
   "cell_type": "code",
   "execution_count": 3,
   "metadata": {},
   "outputs": [],
   "source": [
    "class SequenceVocabulary(Vocabulary):\n",
    "    def __init__(self, token_to_idx=None, unk_token=\"<UNK>\",\n",
    "                 mask_token=\"<MASK>\", begin_seq_token=\"<BEGIN>\",\n",
    "                 end_seq_token=\"<END>\"):\n",
    "\n",
    "        super(SequenceVocabulary, self).__init__(token_to_idx)\n",
    "\n",
    "        self._mask_token = mask_token             # for paddding, e.g., [2, 6, 7, 16, 13, ..., 3, 0, 0, 0, 0, 0]\n",
    "        self._unk_token = unk_token\n",
    "        self._begin_seq_token = begin_seq_token\n",
    "        self._end_seq_token = end_seq_token\n",
    "\n",
    "        self.mask_index = self.add_token(self._mask_token)            # mask_index is 0\n",
    "        self.unk_index = self.add_token(self._unk_token)              # unk_index is 1\n",
    "        self.begin_seq_index = self.add_token(self._begin_seq_token)  # begin_seq_index is 2\n",
    "        self.end_seq_index = self.add_token(self._end_seq_token)      # end_seq_index is 3\n",
    "\n",
    "    def lookup_token(self, token):\n",
    "        \"\"\"Retrieve the index associated with the token \n",
    "          or the UNK index if token isn't present.\n",
    "        \n",
    "        Args:\n",
    "            token (str): the token to look up \n",
    "        Returns:\n",
    "            index (int): the index corresponding to the token\n",
    "        Notes:\n",
    "            `unk_index` needs to be >=0 (having been added into the Vocabulary) \n",
    "              for the UNK functionality \n",
    "        \"\"\"\n",
    "        if self.unk_index >= 0:\n",
    "            return self._token_to_idx.get(token, self.unk_index)\n",
    "        else:\n",
    "            return self._token_to_idx[token]"
   ]
  },
  {
   "cell_type": "markdown",
   "metadata": {},
   "source": [
    "### The Vectorizer"
   ]
  },
  {
   "cell_type": "code",
   "execution_count": 4,
   "metadata": {},
   "outputs": [],
   "source": [
    "class NewsVectorizer(object):\n",
    "    \"\"\" The Vectorizer which coordinates the Vocabularies and puts them to use\"\"\"    \n",
    "    def __init__(self, title_vocab, category_vocab):\n",
    "        self.title_vocab = title_vocab\n",
    "        self.category_vocab = category_vocab\n",
    "\n",
    "    def vectorize(self, title, vector_length=-1):\n",
    "        \"\"\"\n",
    "        Args:\n",
    "            title (str): the string of words separated by a space\n",
    "            vector_length (int): an argument for forcing the length of index vector\n",
    "        Returns:\n",
    "            the vetorized title (numpy.array)\n",
    "        \"\"\"\n",
    "        \"\"\"    \n",
    "        mask_index is 0\n",
    "        unk_index is 1\n",
    "        begin_seq_index is 2\n",
    "        end_seq_index is 3\n",
    "        \n",
    "        When title is \"Wall St. Bears Claw Back Into the Black (Reuters)\"; max vector length is 29 in current dataset \n",
    "        \n",
    "        out_vector = [2, 5, 6, 10, 10, 8, 7, 9, 19, ......., 3, 0, 0, 0, ..., 0]\n",
    "        \n",
    "        \"\"\"\n",
    "        \n",
    "        indices = [self.title_vocab.begin_seq_index]\n",
    "        indices.extend(self.title_vocab.lookup_token(token) \n",
    "                       for token in title.split(\" \"))\n",
    "        indices.append(self.title_vocab.end_seq_index)\n",
    "\n",
    "        if vector_length < 0:\n",
    "            vector_length = len(indices)\n",
    "\n",
    "        out_vector = np.zeros(vector_length, dtype=np.int64)\n",
    "        out_vector[:len(indices)] = indices\n",
    "        out_vector[len(indices):] = self.title_vocab.mask_index\n",
    "\n",
    "        return out_vector\n",
    "\n",
    "    @classmethod\n",
    "    def from_dataframe(cls, news_df, cutoff=25):\n",
    "        \"\"\"Instantiate the vectorizer from the dataset dataframe\n",
    "        \n",
    "        Args:\n",
    "            news_df (pandas.DataFrame): the target dataset\n",
    "            cutoff (int): frequency threshold for including in Vocabulary \n",
    "        Returns:\n",
    "            an instance of the NewsVectorizer\n",
    "        \"\"\"\n",
    "        category_vocab = Vocabulary()        \n",
    "        for category in sorted(set(news_df.category)):\n",
    "            category_vocab.add_token(category)\n",
    "\n",
    "        word_counts = Counter()\n",
    "        for title in news_df.title:\n",
    "            for token in title.split(\" \"):\n",
    "                if token not in string.punctuation:\n",
    "                    word_counts[token] += 1\n",
    "        \n",
    "        title_vocab = SequenceVocabulary()\n",
    "        for word, word_count in word_counts.items():\n",
    "            if word_count >= cutoff:\n",
    "                title_vocab.add_token(word)\n",
    "        \n",
    "        return cls(title_vocab, category_vocab)"
   ]
  },
  {
   "cell_type": "markdown",
   "metadata": {},
   "source": [
    "### The Dataset"
   ]
  },
  {
   "cell_type": "code",
   "execution_count": 5,
   "metadata": {},
   "outputs": [],
   "source": [
    "class NewsDataset(Dataset):\n",
    "    def __init__(self, news_df, vectorizer):\n",
    "        \"\"\"\n",
    "        Args:\n",
    "            news_df (pandas.DataFrame): the dataset\n",
    "            vectorizer (NewsVectorizer): vectorizer instatiated from dataset\n",
    "        \"\"\"\n",
    "        self.news_df = news_df\n",
    "        self._vectorizer = vectorizer\n",
    "\n",
    "        # +1 if only using begin_seq, +2 if using both begin and end seq tokens\n",
    "        measure_len = lambda context: len(context.split(\" \"))\n",
    "        self._max_seq_length = max(map(measure_len, news_df.title)) + 2\n",
    "        \n",
    "\n",
    "        self.train_df = self.news_df[self.news_df.split=='train']\n",
    "        self.train_size = len(self.train_df)\n",
    "\n",
    "        self.val_df = self.news_df[self.news_df.split=='val']\n",
    "        self.validation_size = len(self.val_df)\n",
    "\n",
    "        self.test_df = self.news_df[self.news_df.split=='test']\n",
    "        self.test_size = len(self.test_df)\n",
    "\n",
    "        self._lookup_dict = {'train': (self.train_df, self.train_size),\n",
    "                             'val': (self.val_df, self.validation_size),\n",
    "                             'test': (self.test_df, self.test_size)}\n",
    "\n",
    "        self.set_split('train')\n",
    "\n",
    "        # Class weights\n",
    "        class_counts = news_df.category.value_counts().to_dict()\n",
    "        def sort_key(item):\n",
    "            return self._vectorizer.category_vocab.lookup_token(item[0])\n",
    "        sorted_counts = sorted(class_counts.items(), key=sort_key)\n",
    "        frequencies = [count for _, count in sorted_counts]\n",
    "        self.class_weights = 1.0 / torch.tensor(frequencies, dtype=torch.float32)\n",
    "        \n",
    "        \n",
    "    @classmethod\n",
    "    def load_dataset_and_make_vectorizer(cls, news_csv):\n",
    "        \"\"\"Load dataset and make a new vectorizer from scratch\n",
    "        \n",
    "        Args:\n",
    "            surname_csv (str): location of the dataset\n",
    "        Returns:\n",
    "            an instance of SurnameDataset\n",
    "        \"\"\"\n",
    "        news_df = pd.read_csv(news_csv)\n",
    "        news_df = news_df.rename(columns = {'OriginalTweet': 'title','Sentiment':'category'})\n",
    "        train_news_df = news_df[news_df.split=='train']\n",
    "        return cls(news_df, NewsVectorizer.from_dataframe(train_news_df))\n",
    "\n",
    "    def get_vectorizer(self):\n",
    "        \"\"\" returns the vectorizer \"\"\"\n",
    "        return self._vectorizer\n",
    "\n",
    "    def set_split(self, split=\"train\"):\n",
    "        \"\"\" selects the splits in the dataset using a column in the dataframe \"\"\"\n",
    "        self._target_split = split\n",
    "        self._target_df, self._target_size = self._lookup_dict[split]\n",
    "\n",
    "    def __len__(self):\n",
    "        return self._target_size\n",
    "\n",
    "    def __getitem__(self, index):\n",
    "        \"\"\"the primary entry point method for PyTorch datasets\n",
    "        \n",
    "        Args:\n",
    "            index (int): the index to the data point \n",
    "        Returns:\n",
    "            a dictionary holding the data point's features (x_data) and label (y_target)\n",
    "        \"\"\"\n",
    "        row = self._target_df.iloc[index]\n",
    "\n",
    "        title_vector = \\\n",
    "            self._vectorizer.vectorize(row.title, self._max_seq_length)\n",
    "\n",
    "        category_index = \\\n",
    "            self._vectorizer.category_vocab.lookup_token(row.category)\n",
    "\n",
    "        return {'x_data': title_vector,     # e.g., [2, 5, 6, 10, 10, 8, 7, 9, 19, ......., 3, 0, 0, 0, ..., 0]\n",
    "                'y_target': category_index} # e.g., 2\n",
    "\n",
    "    def get_num_batches(self, batch_size):\n",
    "        \"\"\"Given a batch size, return the number of batches in the dataset\n",
    "        \n",
    "        Args:\n",
    "            batch_size (int)\n",
    "        Returns:\n",
    "            number of batches in the dataset\n",
    "        \"\"\"\n",
    "        return len(self) // batch_size\n",
    "\n",
    "def generate_batches(dataset, batch_size, shuffle=True,\n",
    "                     drop_last=True, device=\"cpu\"): \n",
    "    \"\"\"\n",
    "    A generator function which wraps the PyTorch DataLoader. It will \n",
    "      ensure each tensor is on the write device location.\n",
    "    \"\"\"\n",
    "    dataloader = DataLoader(dataset=dataset, batch_size=batch_size,\n",
    "                            shuffle=shuffle, drop_last=drop_last)\n",
    "\n",
    "    for data_dict in dataloader:\n",
    "        out_data_dict = {}\n",
    "        for name, tensor in data_dict.items():\n",
    "            out_data_dict[name] = data_dict[name].to(device)\n",
    "        yield out_data_dict"
   ]
  },
  {
   "cell_type": "markdown",
   "metadata": {},
   "source": [
    "## The Model: NewsClassifier"
   ]
  },
  {
   "cell_type": "code",
   "execution_count": 6,
   "metadata": {},
   "outputs": [],
   "source": [
    "class NewsClassifier(nn.Module):\n",
    "    def __init__(self, embedding_size, num_embeddings, num_channels, \n",
    "                 hidden_dim, num_classes, dropout_p, \n",
    "                 pretrained_embeddings=None, padding_idx=0):\n",
    "\n",
    "        super(NewsClassifier, self).__init__()\n",
    "\n",
    "        if pretrained_embeddings is None:\n",
    "            self.emb = nn.Embedding(embedding_dim=embedding_size,   # 100\n",
    "                                    num_embeddings=num_embeddings,  # 3409\n",
    "                                    padding_idx=padding_idx)        \n",
    "        else:\n",
    "            pretrained_embeddings = torch.from_numpy(pretrained_embeddings).float()\n",
    "            self.emb = nn.Embedding.from_pretrained(pretrained_embeddings) # when freeze=True (default), \n",
    "                                                                           # the tensor does not get updated in the learning process.\n",
    "               \n",
    "        # in_channels: embedding_size; out_channels: # of filters; kernel_size = n-gram size\n",
    "        # number of parameters: (# of filters, embedding_size, n-gram size), (100, 100, 2) for 2-gram\n",
    "        self.conv1d_4gram = nn.Conv1d(in_channels=embedding_size, out_channels=num_channels, kernel_size=4)       \n",
    "        self.conv1d_3gram = nn.Conv1d(in_channels=embedding_size, out_channels=num_channels, kernel_size=3)                          \n",
    "        self.conv1d_2gram = nn.Conv1d(in_channels=embedding_size, out_channels=num_channels, kernel_size=2)                   \n",
    "\n",
    "        self._dropout_p = dropout_p\n",
    "        self.fc1 = nn.Linear(num_channels*3, hidden_dim) # input:concatination of conv1d_4gram, conv1d_3gram, conv1d_2gram outputs \n",
    "        self.fc2 = nn.Linear(hidden_dim, num_classes)\n",
    "\n",
    "    def forward(self, x_in, apply_softmax=False):\n",
    "        \"\"\"The forward pass of the classifier\n",
    "        \n",
    "        Args:\n",
    "            x_in (torch.Tensor): an input data tensor. \n",
    "                x_in.shape should be (batch, dataset._max_seq_length)\n",
    "            apply_softmax (bool): a flag for the softmax activation\n",
    "                should be false if used with the Cross Entropy losses\n",
    "        Returns:\n",
    "            the resulting tensor. tensor.shape should be (batch, num_classes)\n",
    "        \"\"\"\n",
    "        \n",
    "        # embed and permute so features are channels\n",
    "        x_embedded = self.emb(x_in).permute(0, 2, 1)    # (batch, seq_len) -> (batch, seq_len, features)\n",
    "                                                        # rearange (batch, seq_len, features) to (batch, features, seq_len) \n",
    "                                                        # E.g.,    (128,   29,      100)      to (128,   100,      29)\n",
    "\n",
    "        features = F.elu(self.conv1d_4gram(x_embedded)) # features: (batch, num_channels, ?); e.g., (128, 100, ?)\n",
    "                                                        # activation function similar to leaky RELU(); can use F.relu() instead\n",
    "        # max/average and remove the extra dimension\n",
    "        remaining_size = features.size(dim=2)          # remaining_size: ? in (batch, num_channels, ?)\n",
    "        features_4gram = F.max_pool1d(features, remaining_size).squeeze(dim=2) # features_4gram: (batch, num_channels);kernel_size=remaining_size   \n",
    "        #features_4gram = F.avg_pool1d(features, remaining_size).squeeze(dim=2)   \n",
    "        \n",
    "        features = F.elu(self.conv1d_3gram(x_embedded)) # features: (batch, num_channels, ?); e.g., (128, 100, ?)\n",
    "        remaining_size = features.size(dim=2)          # remaining_size: ? in (batch, num_channels, ?)\n",
    "        features_3gram = F.max_pool1d(features, remaining_size).squeeze(dim=2)    # features_3gram: (batch, num_channels)\n",
    "\n",
    "        features = F.elu(self.conv1d_2gram(x_embedded)) # features: (batch, num_channels, ?); e.g., (128, 100, ?)\n",
    "        remaining_size = features.size(dim=2)          # remaining_size: ? in (batch, num_channels, ?)\n",
    "        features_2gram = F.max_pool1d(features, remaining_size).squeeze(dim=2)    # features_2gram: (batch, num_channels) \n",
    " \n",
    "        features = torch.cat([features_4gram, features_3gram, features_2gram], dim=1)\n",
    "            \n",
    "        features = F.dropout(features, p=self._dropout_p, training=self.training)\n",
    "        \n",
    "        # mlp classifier\n",
    "        intermediate_vector = F.relu(F.dropout(self.fc1(features), p=self._dropout_p, training=self.training))   \n",
    "        prediction_vector = self.fc2(intermediate_vector)  # (batch, num_classes)\n",
    "\n",
    "        if apply_softmax:\n",
    "            prediction_vector = F.softmax(prediction_vector, dim=1)\n",
    "\n",
    "        return prediction_vector"
   ]
  },
  {
   "cell_type": "markdown",
   "metadata": {},
   "source": [
    "## Training Routine"
   ]
  },
  {
   "cell_type": "markdown",
   "metadata": {},
   "source": [
    "### Helper functions"
   ]
  },
  {
   "cell_type": "code",
   "execution_count": 7,
   "metadata": {},
   "outputs": [],
   "source": [
    "def make_train_state(args):\n",
    "    return {'stop_early': False,\n",
    "            'early_stopping_step': 0,\n",
    "            'early_stopping_best_val': 1e8,\n",
    "            'learning_rate': args.learning_rate,\n",
    "            'epoch_index': 0,\n",
    "            'train_loss': [],\n",
    "            'train_acc': [],\n",
    "            'val_loss': [],\n",
    "            'val_acc': [],\n",
    "            'test_loss': -1,\n",
    "            'test_acc': -1,\n",
    "            'model_filename': args.model_state_file}\n",
    "\n",
    "def update_train_state(args, model, train_state):\n",
    "    \"\"\"Handle the training state updates.\n",
    "\n",
    "    Components:\n",
    "     - Early Stopping: Prevent overfitting.\n",
    "     - Model Checkpoint: Model is saved if the model is better\n",
    "\n",
    "    :param args: main arguments\n",
    "    :param model: model to train\n",
    "    :param train_state: a dictionary representing the training state values\n",
    "    :returns:\n",
    "        a new train_state\n",
    "    \"\"\"\n",
    "\n",
    "    # Save one model at least\n",
    "    if train_state['epoch_index'] == 0:\n",
    "        torch.save(model.state_dict(), train_state['model_filename'])\n",
    "        train_state['stop_early'] = False\n",
    "\n",
    "    # Save model if performance improved\n",
    "    elif train_state['epoch_index'] >= 1:\n",
    "        loss_tm1, loss_t = train_state['val_loss'][-2:]\n",
    "\n",
    "        # If loss worsened\n",
    "        if loss_t >= train_state['early_stopping_best_val']:\n",
    "            # Update step\n",
    "            train_state['early_stopping_step'] += 1\n",
    "        # Loss decreased\n",
    "        else:\n",
    "            # Save the best model\n",
    "            if loss_t < train_state['early_stopping_best_val']:\n",
    "                torch.save(model.state_dict(), train_state['model_filename'])\n",
    "                train_state['early_stopping_best_val'] = loss_t  # update 'early_stopping_best_val'\n",
    "\n",
    "            # Reset early stopping step\n",
    "            train_state['early_stopping_step'] = 0\n",
    "\n",
    "        # Stop early ?\n",
    "        train_state['stop_early'] = \\\n",
    "            train_state['early_stopping_step'] >= args.early_stopping_criteria\n",
    "\n",
    "    return train_state\n",
    "\n",
    "def compute_accuracy(y_pred, y_target):\n",
    "    _, y_pred_indices = y_pred.max(dim=1)\n",
    "    n_correct = torch.eq(y_pred_indices, y_target).sum().item()\n",
    "    return n_correct / len(y_pred_indices) * 100"
   ]
  },
  {
   "cell_type": "markdown",
   "metadata": {},
   "source": [
    "#### general utilities"
   ]
  },
  {
   "cell_type": "code",
   "execution_count": 8,
   "metadata": {},
   "outputs": [],
   "source": [
    "def set_seed_everywhere(seed, cuda):\n",
    "    np.random.seed(seed)\n",
    "    torch.manual_seed(seed)\n",
    "    if cuda:\n",
    "        torch.cuda.manual_seed_all(seed)\n",
    "\n",
    "def handle_dirs(dirpath):\n",
    "    if not os.path.exists(dirpath):\n",
    "        os.makedirs(dirpath)\n",
    "        \n",
    "def load_glove_from_file(glove_filepath):\n",
    "    \"\"\"\n",
    "    Load the GloVe embeddings \n",
    "    \n",
    "    Args:\n",
    "        glove_filepath (str): path to the glove embeddings file \n",
    "    Returns:\n",
    "        word_to_index (dict), embeddings (numpy.ndarary)\n",
    "    \"\"\"\n",
    "\n",
    "    word_to_index = {}\n",
    "    embeddings = []\n",
    "    with open(glove_filepath, \"r\", encoding='utf8') as fp:\n",
    "        for index, line in enumerate(fp):\n",
    "            line = line.split(\" \") # each line: word num1 num2 ...\n",
    "            word_to_index[line[0]] = index # word = line[0] \n",
    "            embedding_i = np.array([float(val) for val in line[1:]])\n",
    "            embeddings.append(embedding_i)\n",
    "    return word_to_index, np.stack(embeddings)\n",
    "\n",
    "def make_embedding_matrix(glove_filepath, words):\n",
    "    \"\"\"\n",
    "    Create embedding matrix for a specific set of words.\n",
    "    \n",
    "    Args:\n",
    "        glove_filepath (str): file path to the glove embeddigns\n",
    "        words (list): list of words in the dataset\n",
    "    \"\"\"\n",
    "    word_to_idx, glove_embeddings = load_glove_from_file(glove_filepath)\n",
    "    embedding_size = glove_embeddings.shape[1]\n",
    "    \n",
    "    final_embeddings = np.zeros((len(words), embedding_size))\n",
    "\n",
    "    for i, word in enumerate(words):\n",
    "        if word in word_to_idx:\n",
    "            final_embeddings[i, :] = glove_embeddings[word_to_idx[word]]\n",
    "        else:\n",
    "            embedding_i = torch.ones(1, embedding_size)\n",
    "            torch.nn.init.xavier_uniform_(embedding_i)\n",
    "            final_embeddings[i, :] = embedding_i\n",
    "\n",
    "    return final_embeddings"
   ]
  },
  {
   "cell_type": "markdown",
   "metadata": {},
   "source": [
    "### Settings and some prep work"
   ]
  },
  {
   "cell_type": "code",
   "execution_count": 9,
   "metadata": {},
   "outputs": [],
   "source": [
    "from argparse import Namespace"
   ]
  },
  {
   "cell_type": "code",
   "execution_count": 10,
   "metadata": {},
   "outputs": [
    {
     "name": "stdout",
     "output_type": "stream",
     "text": [
      "Expanded filepaths: \n",
      "\tmodel_storage/ch5/document_classification\\model.pth\n",
      "Using CUDA: False\n"
     ]
    }
   ],
   "source": [
    "args = Namespace(\n",
    "    # Data and Path hyper parameters\n",
    "    news_csv=\"data/Corona_NLP_final.csv\",\n",
    "    model_state_file=\"model.pth\",\n",
    "    save_dir=\"model_storage/ch5/document_classification\",\n",
    "    # Model hyper parameters\n",
    "    glove_filepath='data/glove/glove.6B.100d.txt', \n",
    "    use_glove=True,\n",
    "    embedding_size=100, \n",
    "    hidden_dim=100, \n",
    "    num_channels=100, \n",
    "    # Training hyper parameter\n",
    "    seed=1337, \n",
    "    learning_rate=0.001, \n",
    "    dropout_p=0.1, \n",
    "    batch_size=128, \n",
    "    num_epochs=25, \n",
    "    early_stopping_criteria=5, \n",
    "    # Runtime option\n",
    "    cuda=True, \n",
    "    catch_keyboard_interrupt=True, \n",
    "    reload_from_files=False,\n",
    "    expand_filepaths_to_save_dir=True\n",
    ") \n",
    "\n",
    "if args.expand_filepaths_to_save_dir:\n",
    "    args.model_state_file = os.path.join(args.save_dir,\n",
    "                                         args.model_state_file)    \n",
    "    print(\"Expanded filepaths: \")\n",
    "    print(\"\\t{}\".format(args.model_state_file))\n",
    "    \n",
    "# Check CUDA\n",
    "if not torch.cuda.is_available():\n",
    "    args.cuda = False\n",
    "    \n",
    "args.device = torch.device(\"cuda\" if args.cuda else \"cpu\")\n",
    "print(\"Using CUDA: {}\".format(args.cuda))\n",
    "\n",
    "# Set seed for reproducibility\n",
    "set_seed_everywhere(args.seed, args.cuda)\n",
    "\n",
    "# handle dirs\n",
    "handle_dirs(args.save_dir)"
   ]
  },
  {
   "cell_type": "markdown",
   "metadata": {},
   "source": [
    "### Initializations"
   ]
  },
  {
   "cell_type": "code",
   "execution_count": 40,
   "metadata": {},
   "outputs": [],
   "source": [
    "args.use_glove = False"
   ]
  },
  {
   "cell_type": "code",
   "execution_count": 41,
   "metadata": {},
   "outputs": [
    {
     "name": "stdout",
     "output_type": "stream",
     "text": [
      "Not using pre-trained embeddings\n"
     ]
    }
   ],
   "source": [
    "# create dataset and vectorizer\n",
    "dataset = NewsDataset.load_dataset_and_make_vectorizer(args.news_csv)\n",
    "vectorizer = dataset.get_vectorizer()\n",
    "\n",
    "# Use GloVe or randomly initialized embeddings\n",
    "if args.use_glove:\n",
    "    words = vectorizer.title_vocab._token_to_idx.keys()  # 3409 unique words\n",
    "    embeddings = make_embedding_matrix(glove_filepath=args.glove_filepath,     # embeddings: (3409, 100)\n",
    "                                       words=words)\n",
    "    print(\"Using pre-trained embeddings\")\n",
    "else:\n",
    "    print(\"Not using pre-trained embeddings\")\n",
    "    embeddings = None"
   ]
  },
  {
   "cell_type": "code",
   "execution_count": 42,
   "metadata": {},
   "outputs": [
    {
     "name": "stdout",
     "output_type": "stream",
     "text": [
      "{'<MASK>': 0, '<UNK>': 1, '<BEGIN>': 2, '<END>': 3, 'britain': 4, 's': 5, 'frontline': 6, 'minimum': 7, 'wage': 8, 'army': 9, 'got': 10, 'a': 11, 'pay': 12, 'rise': 13, 'today': 14, 'national': 15, 'reality': 16, 'hr': 17, 'over': 18, 'remember': 19, 'that': 20, 'the': 21, 'next': 22, 'time': 23, 'you': 24, 'see': 25, 'them': 26, 'working': 27, 'in': 28, 'supermarket': 29, 'cleaning': 30, 'hospitals': 31, 'or': 32, 'providing': 33, 'care': 34, 'perfect': 35, 'storm': 36, 'us': 37, 'facing': 38, 'hunger': 39, 'crisis': 40, 'as': 41, 'demand': 42, 'for': 43, 'food': 44, 'banks': 45, 'soars': 46, 'public': 47, 'health': 48, 'is': 49, 'many': 50, 'issue': 51, 'not': 52, 'just': 53, 'one': 54, 'coronavirus': 55, 'https': 56, 't': 57, 'co': 58, 'coles': 59, 'woolworths': 60, 'shouldn': 61, 'supermarkets': 62, 'be': 63, 'use': 64, 'of': 65, 'reusable': 66, 'bags': 67, 'while': 68, 'we': 69, 'are': 70, 'trying': 71, 'to': 72, 'contain': 73, 'covid': 74, 'high': 75, 'traffic': 76, 'at': 77, 'moment': 78, 'with': 79, 'potential': 80, 'infection': 81, 'spread': 82, 'from': 83, 'infected': 84, 'surfaces': 85, 'oil': 86, 'prices': 87, 'trump': 88, 'expects': 89, 'russia': 90, 'and': 91, 'saudi': 92, 'arabia': 93, 'soon': 94, 'check': 95, 'it': 96, 'out': 97, 'here': 98, 'z': 99, 'outbreak': 100, 'investing': 101, 'stocks': 102, 'equity': 103, 'finance': 104, 'market': 105, 'updates': 106, 'where': 107, 'your': 108, 'gouging': 109, 'police': 110, 'seriously': 111, 'twitter': 112, 'please': 113, 'shame': 114, 'these': 115, 'sorry': 116, 'ass': 117, 'uses': 118, 'price': 119, 'avoid': 120, 'selfish': 121, 'buying': 122, 'bottle': 123, 'if': 124, 'bottles': 125, 'malaysia': 126, 'should': 127, 'apply': 128, 'this': 129, 'instead': 130, 'selling': 131, 'handsanitizer': 132, 'pmoindia': 133, 'narendramodi': 134, 'dear': 135, 'sir': 136, 'my': 137, 'request': 138, 'ban': 139, 'till': 140, 'lockdown': 141, 'people': 142, 'spreading': 143, 'falls': 144, 'information': 145, 'virus': 146, 'shortage': 147, 'grocery': 148, 'stocking': 149, 'fake': 150, 'corona': 151, 'vaccine': 152, 'etc': 153, 'coronaviruslockdown': 154, 'coronaviruspandemic': 155, 'everyday': 156, 'walmart': 157, 'ceo': 158, 'tell': 159, 'about': 160, 'how': 161, 'company': 162, 'protecting': 163, 'associates': 164, 'have': 165, 'no': 166, 'hand': 167, 'sanitizer': 168, 'ppe': 169, 'hundreds': 170, 'customers': 171, 'they': 172, 'limited': 173, 'option': 174, 'but': 175, 'come': 176, 'work': 177, 'get': 178, 'paid': 179, 'light': 180, 'kill': 181, 'bacteria': 182, 'exclusive': 183, 'break': 184, 'consumer': 185, 'credit': 186, 'industry': 187, 'congress': 188, 'protect': 189, 'who': 190, 'miss': 191, 'payments': 192, 'due': 193, 'groups': 194, 'amp': 195, 'back': 196, 'canada': 197, 'i': 198, 'live': 199, 'house': 200, 'five': 201, 'different': 202, 'store': 203, 'workers': 204, 'three': 205, 'stores': 206, 'all': 207, 'contact': 208, 're': 209, 'up': 210, 'eating': 211, 'dinner': 212, 'sharing': 213, 'stories': 214, 'our': 215, 'day': 216, 'pm': 217, 'do': 218, 'against': 219, 'since': 220, 'only': 221, 'can': 222, 'effective': 223, 'facts': 224, 'beware': 225, 'coronavirusupdate': 226, 'distance': 227, 'learning': 228, 'begin': 229, 'emails': 230, 'teachers': 231, 'coming': 232, 'fast': 233, 'case': 234, 'need': 235, 'keep': 236, 'everything': 237, 'straight': 238, 'good': 239, 'luck': 240, 'u': 241, 'mass': 242, 'yesterday': 243, 'groceries': 244, 'stations': 245, 'bus': 246, 'station': 247, 'towards': 248, 'ones': 249, 'waiting': 250, 'has': 251, 'voice': 252, 'telling': 253, 'shop': 254, 'doing': 255, 'possible': 256, 'shopping': 257, 'when': 258, 'comes': 259, 'safety': 260, 'their': 261, 'staff': 262, 'falling': 263, 'short': 264, 'had': 265, 'chains': 266, 'social': 267, 'into': 268, 'early': 269, 'access': 270, 'nhs': 271, 'd': 272, 'suggest': 273, 'bringing': 274, 'along': 275, 'going': 276, 'find': 277, 'opening': 278, 'times': 279, 'go': 280, 'energy': 281, 'president': 282, 'effects': 283, 'on': 284, 'his': 285, 'ethanol': 286, 'plant': 287, 've': 288, 'put': 289, 'plan': 290, 'place': 291, 'currently': 292, 'operating': 293, 'reduced': 294, 'rates': 295, 'appreciated': 296, 'bleach': 297, 'toiletpaper': 298, 'stayhome': 299, 'socialdistancing': 300, 'n': 301, 'household': 302, 'products': 303, 'experts': 304, 'helping': 305, 'quarantine': 306, 'books': 307, 'ordered': 308, 'off': 309, 'retail': 310, 'through': 311, 'may': 312, 'using': 313, 'discount': 314, 'code': 315, 'checkout': 316, 'gun': 317, 'metro': 318, 'lines': 319, 'six': 320, 'deep': 321, 'been': 322, 'stripped': 323, 'bare': 324, 'by': 325, 'fears': 326, 'guns': 327, 'started': 328, 'flying': 329, 'shelves': 330, 'ca': 331, 'found': 332, 'last': 333, 'plus': 334, 'living': 335, 'area': 336, 'thought': 337, 'were': 338, 'empty': 339, 'morning': 340, 'wine': 341, 'coronacrisis': 342, 'panicbuying': 343, 'week': 344, 'crazy': 345, 'm': 346, 'lucky': 347, 'best': 348, 'friend': 349, 'does': 350, 'runs': 351, 'so': 352, 'don': 353, 'thank': 354, 'loved': 355, 'there': 356, 'supporting': 357, 'front': 358, 'line': 359, 'right': 360, 'now': 361, 'potus': 362, 'an': 363, 'affordable': 364, 'solution': 365, 'feet': 366, 'pharmacy': 367, 'ask': 368, 'americans': 369, 'open': 370, 'give': 371, 'thanks': 372, 'keeping': 373, 'essential': 374, 'stocked': 375, 'across': 376, 'uk': 377, 'will': 378, 'closed': 379, 'end': 380, 'march': 381, 'safe': 382, 'during': 383, 'continue': 384, 'ship': 385, 'orders': 386, 'placed': 387, 'online': 388, 'available': 389, 'until': 390, 'return': 391, 'regular': 392, 'hours': 393, 'h': 394, 'close': 395, 'bottom': 396, 'popular': 397, 'bitcoin': 398, 'gold': 399, 'investors': 400, 'worldwide': 401, 'risk': 402, 'fall': 403, 'result': 404, 'wait': 405, 'opportunity': 406, 'pandemic': 407, 'caused': 408, 'serious': 409, 'disruption': 410, 'businesses': 411, 'shares': 412, 'top': 413, 'concerns': 414, 'realestate': 415, 'navigate': 416, 'business': 417, 'impact': 418, 'conversation': 419, 'read': 420, 'more': 421, 'never': 422, 'ever': 423, 'accused': 424, 'being': 425, 'twice': 426, 'min': 427, 'buy': 428, 'than': 429, 'pack': 430, 'loo': 431, 'roll': 432, 'oh': 433, 'what': 434, 'panicshopping': 435, 'employee': 436, 'amazon': 437, 'warehouse': 438, 'tested': 439, 'positive': 440, 'spoke': 441, 'disease': 442, 'expert': 443, 'means': 444, 'details': 445, 'decision': 446, 'wake': 447, 'weak': 448, 'statement': 449, 'government': 450, 'help': 451, 'making': 452, 'companies': 453, 'small': 454, 'manufacturers': 455, 'produce': 456, 'per': 457, 'guidelines': 458, 'increase': 459, 'production': 460, 'sanitizers': 461, 'every': 462, 'sent': 463, 'brother': 464, 'grade': 465, 'him': 466, 'upon': 467, 'based': 468, 'main': 469, 'story': 470, 'well': 471, 'side': 472, 'quarantinelife': 473, 'j': 474, 'take': 475, 'existing': 476, 'meet': 477, 'consumers': 478, 'especially': 479, 'true': 480, 'cpg': 481, 'brands': 482, 'like': 483, 'operations': 484, 'uncertainty': 485, 'scenes': 486, 'would': 487, 'fighting': 488, 'flour': 489, 'each': 490, 'other': 491, 'because': 492, 'managed': 493, 'toilet': 494, 'paracetamol': 495, 'brought': 496, 'massive': 497, 'big': 498, 'panic': 499, 'borisjohnson': 500, 'consider': 501, 'some': 502, 'sort': 503, 'distribution': 504, 'enforce': 505, 'considerate': 506, 'worse': 507, 'silver': 508, 'economic': 509, 'hit': 510, 'become': 511, 'update': 512, 'reason': 513, 'stock': 514, 'scared': 515, 'future': 516, 'emptying': 517, 'faster': 518, 'supply': 519, 'chain': 520, 'restock': 521, 'cause': 522, 'creating': 523, 'very': 524, 'thing': 525, 'prevent': 526, 'water': 527, 'sign': 528, 'members': 529, 'opec': 530, 'its': 531, 'agreed': 532, 'almost': 533, 'month': 534, 'after': 535, 'wiped': 536, 'collapse': 537, 'global': 538, 'via': 539, 'those': 540, 'saving': 541, 'lives': 542, 'shifts': 543, 'without': 544, 'joined': 545, 'calling': 546, 'retailers': 547, 'action': 548, 'ensure': 549, 'enough': 550, 'emergency': 551, 'little': 552, 'way': 553, 'protection': 554, 'dm': 555, 'okay': 556, 'problem': 557, 'make': 558, 'announcement': 559, 'stop': 560, 'getting': 561, 'limiting': 562, 'items': 563, 'state': 564, 'mum': 565, 'works': 566, 'most': 567, 'dad': 568, 'came': 569, 'home': 570, 'guys': 571, 'around': 572, 'world': 573, 'isn': 574, 'deadly': 575, 'think': 576, 'hoard': 577, 'masks': 578, 'figure': 579, 'seniors': 580, 'stay': 581, 'healthy': 582, 'x': 583, 'why': 584, 'someone': 585, 'still': 586, 'least': 587, 'hoping': 588, 'leave': 589, 'country': 590, 'govt': 591, 'firms': 592, 'amid': 593, 'threat': 594, 'minister': 595, 'ml': 596, 'cannot': 597, 'sold': 598, 'rs': 599, 'ireland': 600, 'shoppers': 601, 'set': 602, 'sales': 603, 'record': 604, 'surge': 605, 'believe': 606, 'hasn': 607, 'said': 608, 'yet': 609, 'paper': 610, 'quaratinelife': 611, 'puts': 612, 'new': 613, 'delivery': 614, 'weekend': 615, 'chaos': 616, 'warns': 617, 'former': 618, 'waitrose': 619, 'boss': 620, 'daily': 621, 'express': 622, 'made': 623, 'me': 624, 'smile': 625, 'st': 626, 'such': 627, 'worked': 628, 'bet': 629, 'even': 630, 'despite': 631, 'mask': 632, 'cover': 633, 'nose': 634, 'mouth': 635, 'community': 636, 'interested': 637, 'finding': 638, 'happen': 639, 'property': 640, 'restrictions': 641, 'chief': 642, 'economist': 643, 'group': 644, 'latest': 645, 'realdonaldtrump': 646, 'media': 647, 'won': 648, 'patient': 649, 'hospital': 650, 'charged': 651, 'free': 652, 'kept': 653, 'attention': 654, 'everyone': 655, 'smart': 656, 'wash': 657, 'hands': 658, 'frequently': 659, 'practice': 660, 'distancing': 661, 'doesn': 662, 'hard': 663, 'stayathome': 664, 'scammers': 665, 'illegal': 666, 'scam': 667, 'treatments': 668, 'calls': 669, 'press': 670, 'any': 671, 'numbers': 672, 'hang': 673, 'learn': 674, 'could': 675, 'plunge': 676, 'much': 677, 'spring': 678, 'months': 679, 'vs': 680, 'year': 681, 'website': 682, 'dropped': 683, 'analysis': 684, 'trading': 685, 'clearing': 686, 'tomorrow': 687, 'further': 688, 'notice': 689, 'v': 690, 'glad': 691, 'he': 692, 'excited': 693, 'bought': 694, 'pantry': 695, 'frozen': 696, 'supplies': 697, 'starting': 698, 'weeks': 699, 'ago': 700, 'dr': 701, 'ready': 702, 'worry': 703, 'afford': 704, 'law': 705, 'review': 706, 'states': 707, 'delay': 708, 'enforcement': 709, 'data': 710, 'trips': 711, 'few': 712, 'sainsburys': 713, 'things': 714, 'asda': 715, 'drive': 716, 'ecommerce': 717, 'beyond': 718, 'change': 719, 'tech': 720, 'economy': 721, 'says': 722, 'economics': 723, 'chance': 724, 'recovery': 725, 'slow': 726, 'inflation': 727, 'hiking': 728, 'ie': 729, 'g': 730, 'hazard': 731, 'gop': 732, 'publix': 733, 'democrats': 734, 'coronavirususa': 735, 'rn': 736, 'cuz': 737, 'join': 738, 'll': 739, 'both': 740, 'apple': 741, 'facebook': 742, 'took': 743, 'steps': 744, 'self': 745, 'question': 746, 'her': 747, 'eyes': 748, 'she': 749, 'was': 750, 'charging': 751, 'yeah': 752, 'era': 753, 'cancelled': 754, 'buyers': 755, 'contract': 756, 'terms': 757, 'seek': 758, 'cut': 759, 'product': 760, 'domestic': 761, 'manufacturing': 762, 'shut': 763, 'though': 764, 'let': 765, 'isolate': 766, 'essentials': 767, 'vulnerable': 768, 'y': 769, 'taking': 770, 'cans': 771, 'humor': 772, 'difficult': 773, 'funny': 774, 'laugh': 775, 'joke': 776, 'billion': 777, 'million': 778, 'budget': 779, 'support': 780, 'coronapocolypse': 781, 'coronavirusoutbreak': 782, 'however': 783, 'fully': 784, 'enjoy': 785, 'alcohol': 786, 'beer': 787, 'brings': 788, 'p': 789, 'unemployment': 790, 'claims': 791, 'skyrocket': 792, 'innovation': 793, 'series': 794, 'together': 795, 'share': 796, 'insights': 797, 'local': 798, 'register': 799, 'webinar': 800, 'heroes': 801, 'residents': 802, 'tools': 803, 'deliveries': 804, 'neighbors': 805, 'lost': 806, 'jobs': 807, 'too': 808, 'walk': 809, 'shit': 810, 'behind': 811, 'shifting': 812, 'italy': 813, 'wuhan': 814, 'exposed': 815, 'private': 816, 'capitalism': 817, 'amount': 818, 'agree': 819, 'anything': 820, 'looks': 821, 'healthcare': 822, 'job': 823, 'ad': 824, 'offering': 825, 'hour': 826, 'industries': 827, 'millions': 828, 'already': 829, 'before': 830, 'again': 831, 'saw': 832, 'tracking': 833, 'couldn': 834, 'leadership': 835, 'confidence': 836, 'direction': 837, 'usa': 838, 'taste': 839, 'power': 840, 'cuts': 841, 'donating': 842, 'charity': 843, 'relief': 844, 'fund': 845, 'needs': 846, 'increases': 847, 'vegetables': 848, 'fruits': 849, 'suffering': 850, 'suffer': 851, 'lows': 852, 'seen': 853, 'british': 854, 'asking': 855, 'run': 856, 'bbc': 857, 'coronacrisisuk': 858, 'old': 859, 'soap': 860, 'fight': 861, 'cars': 862, 'parking': 863, 'lot': 864, 'then': 865, 'humans': 866, 'friends': 867, 'staysafestayhome': 868, 'c': 869, 'florida': 870, 'houses': 871, 'rolls': 872, 'children': 873, 'north': 874, 'toiletpapercrisis': 875, 'homemade': 876, 'plastic': 877, 'spray': 878, 'drops': 879, 'did': 880, 'unless': 881, 'reduce': 882, 'ill': 883, 'love': 884, 'stophoarding': 885, 'coronavirusuk': 886, 'spending': 887, 'say': 888, 'f': 889, 'university': 890, 'video': 891, 'showing': 892, 'cough': 893, 'wearing': 894, 'others': 895, 'concerned': 896, 'strong': 897, 'growing': 898, 'which': 899, 'position': 900, 'tackle': 901, 'went': 902, 'lady': 903, 'pick': 904, 'eggs': 905, 'having': 906, 'neighborhood': 907, 'practicing': 908, 'groceryshopping': 909, 'goods': 910, 'service': 911, 'affected': 912, 'whether': 913, 'yourself': 914, 'advice': 915, 'visit': 916, 'far': 917, 'produced': 918, 'given': 919, 'struggling': 920, 'serving': 921, 'hot': 922, 'cook': 923, 'watching': 924, 'pets': 925, 'reach': 926, 'households': 927, 'stockpiling': 928, 'start': 929, 'cases': 930, 'download': 931, 'guide': 932, 'sale': 933, 'later': 934, 'experience': 935, 'absolutely': 936, 'shift': 937, 'wouldn': 938, 'less': 939, 'netflix': 940, 'list': 941, 'tips': 942, 'fewer': 943, 'better': 944, 'also': 945, 'sentiment': 946, 'current': 947, 'report': 948, 'offers': 949, 'insight': 950, 'claim': 951, 'australia': 952, 'pics': 953, 'tp': 954, 'afternoon': 955, 'left': 956, 'feeling': 957, 'years': 958, 'grocerystores': 959, 'inflated': 960, 'types': 961, 'ads': 962, 'required': 963, 'content': 964, 'abuse': 965, 'posts': 966, 'sanitation': 967, 'washyourhands': 968, 'anti': 969, 'bar': 970, 'fresh': 971, 'oz': 972, 'r': 973, 'europe': 974, 'ventilators': 975, 'building': 976, 'doctors': 977, 'called': 978, 'america': 979, 'wants': 980, 'higher': 981, 'expected': 982, 'important': 983, 'growth': 984, 'allow': 985, 'markets': 986, 'look': 987, 'poor': 988, 'rt': 989, 'l': 990, 'bc': 991, 'nothing': 992, 'basic': 993, 'situation': 994, 'sucks': 995, 'honestly': 996, 'really': 997, 'great': 998, 'quickly': 999, 'bad': 1000, 'note': 1001, 'unfortunately': 1002, 'considered': 1003, 'non': 1004, 'wholesale': 1005, 'info': 1006, 'am': 1007, 'postponed': 1008, 'except': 1009, 'following': 1010, 'aware': 1011, 'regarding': 1012, 'beginning': 1013, 'hey': 1014, 'fair': 1015, 'expect': 1016, 'prepare': 1017, 'employees': 1018, 'ontario': 1019, 'temporary': 1020, 'raise': 1021, 'pantries': 1022, 'plenty': 1023, 'gave': 1024, 'handling': 1025, 'key': 1026, 'message': 1027, 'perhaps': 1028, 'worth': 1029, 'medical': 1030, 'posted': 1031, 'lab': 1032, 'diy': 1033, 'ease': 1034, 'starve': 1035, 'elderly': 1036, 'sick': 1037, 'tears': 1038, 'selfishness': 1039, 'surgical': 1040, 'disinfectant': 1041, 'trolleys': 1042, 'spot': 1043, 'donations': 1044, 'rather': 1045, 'focus': 1046, 'giving': 1047, 'electricity': 1048, 'value': 1049, 'money': 1050, 'period': 1051, 'able': 1052, 'walking': 1053, 'minutes': 1054, 'beautiful': 1055, 'recent': 1056, 'decided': 1057, 'cancel': 1058, 'drivers': 1059, 'post': 1060, 'various': 1061, 'pressure': 1062, 'points': 1063, 'lower': 1064, 'income': 1065, 'leads': 1066, 'disruptions': 1067, 'internet': 1068, 'layoffs': 1069, 'programs': 1070, 'rd': 1071, 'advantage': 1072, 'websites': 1073, 'designed': 1074, 'steal': 1075, 'personal': 1076, 'call': 1077, 'email': 1078, 'text': 1079, 'link': 1080, 'provided': 1081, 'professor': 1082, 'blog': 1083, 'discusses': 1084, 'happens': 1085, 'developing': 1086, 'countries': 1087, 'rely': 1088, 'heavily': 1089, 'imports': 1090, 'combat': 1091, 'export': 1092, 'leading': 1093, 'producing': 1094, 'london': 1095, 'forced': 1096, 'long': 1097, 'queues': 1098, 'down': 1099, 'aisles': 1100, 'continues': 1101, 'tesco': 1102, 'adding': 1103, 'item': 1104, 'bank': 1105, 'whilst': 1106, 'shops': 1107, 'forget': 1108, 'filling': 1109, 'under': 1110, 'wonderful': 1111, 'west': 1112, 'asymptomatic': 1113, 'wear': 1114, 'own': 1115, 'bag': 1116, 'same': 1117, 'similar': 1118, 'piece': 1119, 'professionals': 1120, 'scientists': 1121, 'dedicated': 1122, 'leaders': 1123, 'appreciate': 1124, 'foods': 1125, 'increasing': 1126, 'survive': 1127, 'gas': 1128, 'plz': 1129, 'kindly': 1130, 'easy': 1131, 'petrol': 1132, 'diesel': 1133, 'crude': 1134, 'lowest': 1135, 'want': 1136, 'hear': 1137, 'carrying': 1138, 'services': 1139, 'goes': 1140, 'truck': 1141, 'yes': 1142, 'know': 1143, 'testing': 1144, 'kit': 1145, 'sell': 1146, 'purchase': 1147, 'failing': 1148, 'pricegouging': 1149, 'actually': 1150, 'gov': 1151, 'allowing': 1152, 'students': 1153, 'b': 1154, 'spike': 1155, 'single': 1156, 'gloves': 1157, 'save': 1158, 'special': 1159, 'foreign': 1160, 'reuters': 1161, 'aisle': 1162, 'chinesevirus': 1163, 'sister': 1164, 'costco': 1165, 'trader': 1166, 'joe': 1167, 'sweep': 1168, 'club': 1169, 'moved': 1170, 'hoarding': 1171, 'launched': 1172, 'chinese': 1173, 'initiative': 1174, 'article': 1175, 'published': 1176, 'entry': 1177, 'policy': 1178, 'used': 1179, 'box': 1180, 'zero': 1181, 'milk': 1182, 'plunging': 1183, 'dairy': 1184, 'farmers': 1185, 'dumping': 1186, 'curb': 1187, 'oversupply': 1188, 'desperate': 1189, 'looking': 1190, 'ways': 1191, 'send': 1192, 'talking': 1193, 'doubled': 1194, 'toiletpaperpanic': 1195, 'liquor': 1196, 'total': 1197, 'news': 1198, 'fox': 1199, 'russian': 1200, 'war': 1201, 'central': 1202, 'model': 1203, 'providers': 1204, 'included': 1205, 'guidance': 1206, 'purpose': 1207, 'act': 1208, 'combined': 1209, 'volatility': 1210, 'significant': 1211, 'april': 1212, 'im': 1213, 'team': 1214, 'huge': 1215, 'communities': 1216, 'shout': 1217, 'location': 1218, 'vancouver': 1219, 'research': 1220, 'system': 1221, 'step': 1222, 'affecting': 1223, 'car': 1224, 'shutdowns': 1225, 'globe': 1226, 'events': 1227, 'drop': 1228, 'control': 1229, 'face': 1230, 'wanna': 1231, 'feel': 1232, 'second': 1233, 'daughter': 1234, 'quarantinediaries': 1235, 'maybe': 1236, 'clients': 1237, 'happy': 1238, 'basically': 1239, 'whatever': 1240, 'india': 1241, 'plans': 1242, 'mean': 1243, 'sellers': 1244, 'longer': 1245, 'count': 1246, 'washing': 1247, 'clean': 1248, 'touching': 1249, 'reduction': 1250, 'cash': 1251, 'meanwhile': 1252, 'shipping': 1253, 'first': 1254, 'responders': 1255, 'protective': 1256, 'equipment': 1257, 'truly': 1258, 'provide': 1259, 'basics': 1260, 'often': 1261, 'must': 1262, 'critical': 1263, 'farm': 1264, 'beef': 1265, 'between': 1266, 'watch': 1267, 'competition': 1268, 'rules': 1269, 'meat': 1270, 'staples': 1271, 'nation': 1272, 'condition': 1273, 'taken': 1274, 'adequate': 1275, 'measures': 1276, 'demands': 1277, 'q': 1278, 'office': 1279, 'hrs': 1280, 'sure': 1281, 'insecurity': 1282, 'organizations': 1283, 'fed': 1284, 'causes': 1285, 'level': 1286, 'common': 1287, 'allowed': 1288, 'explain': 1289, 'western': 1290, 'nyc': 1291, 'writes': 1292, 'drug': 1293, 'corner': 1294, 'full': 1295, 'fruit': 1296, 'veg': 1297, 'imposed': 1298, 'volunteers': 1299, 'founder': 1300, 'clear': 1301, 'behaviour': 1302, 'driven': 1303, 'labor': 1304, 'term': 1305, 'capital': 1306, 'try': 1307, 'sanitize': 1308, 'image': 1309, 'limit': 1310, 'two': 1311, 'packs': 1312, 'understand': 1313, 'restaurants': 1314, 'considering': 1315, 'extended': 1316, 'simple': 1317, 'fact': 1318, 'staying': 1319, 'apart': 1320, 'thinking': 1321, 'park': 1322, 'hysteria': 1323, 'anxious': 1324, 'ok': 1325, 'deal': 1326, 'days': 1327, 'turn': 1328, 'chinavirus': 1329, 'nurse': 1330, 'operators': 1331, 'checks': 1332, 'encourage': 1333, 'closures': 1334, 'appeal': 1335, 'nj': 1336, 'pc': 1337, 'raised': 1338, 'forward': 1339, 'hell': 1340, 'insane': 1341, 'american': 1342, 'seem': 1343, 'everywhere': 1344, 'manage': 1345, 'throughout': 1346, 'eu': 1347, 'nygovcuomo': 1348, 'gt': 1349, 'carry': 1350, 'running': 1351, 'asset': 1352, 'urge': 1353, 'actions': 1354, 'away': 1355, 'factories': 1356, 'marketing': 1357, 'practices': 1358, 'gear': 1359, 'maintaining': 1360, 'sense': 1361, 'calm': 1362, 'cope': 1363, 'talk': 1364, 'coping': 1365, 'bekind': 1366, 'hi': 1367, 'test': 1368, 'done': 1369, 'sky': 1370, 'k': 1371, 'deserve': 1372, 'gratitude': 1373, 'protections': 1374, 'afraid': 1375, 'worst': 1376, 'easter': 1377, 'half': 1378, 'thread': 1379, 'hul': 1380, 'increased': 1381, 'follow': 1382, 'coronavirusindia': 1383, 'au': 1384, 'increasingly': 1385, 'direct': 1386, 'response': 1387, 'australian': 1388, 'provides': 1389, 'practical': 1390, 'range': 1391, 'probably': 1392, 'lately': 1393, 'happened': 1394, 'lose': 1395, 'takes': 1396, 'quality': 1397, 'blame': 1398, 'pass': 1399, 'onto': 1400, 'cheaper': 1401, 'standard': 1402, 'hits': 1403, 'alert': 1404, 'fraud': 1405, 'scams': 1406, 'proud': 1407, 'approved': 1408, 'lead': 1409, 'city': 1410, 'collection': 1411, 'soaps': 1412, 'sanitisers': 1413, 'season': 1414, 'coughing': 1415, 'real': 1416, 'quick': 1417, 'ain': 1418, 'nobody': 1419, 'posting': 1420, 'photos': 1421, 'comfort': 1422, 'minute': 1423, 'sa': 1424, 'part': 1425, 'financial': 1426, 'including': 1427, 'auto': 1428, 'student': 1429, 'loans': 1430, 'rose': 1431, 'february': 1432, 'prior': 1433, 'release': 1434, 'hello': 1435, 'morrisons': 1436, 'low': 1437, 'imagine': 1438, 'brexit': 1439, 'northern': 1440, 'nigeria': 1441, 'move': 1442, 'citizens': 1443, 'measure': 1444, 'weekly': 1445, 'lockdowns': 1446, 'lagos': 1447, 'pakistan': 1448, 'rice': 1449, 'sugar': 1450, 'urging': 1451, 'covidiots': 1452, 'covidiot': 1453, 'indoors': 1454, 'mr': 1455, 'letter': 1456, 'might': 1457, 'according': 1458, 'picking': 1459, 'worried': 1460, 'sector': 1461, 'limits': 1462, 'e': 1463, 'commerce': 1464, 'changed': 1465, 'became': 1466, 'mp': 1467, 'answers': 1468, 'pump': 1469, 'haven': 1470, 'large': 1471, 'fuel': 1472, 'seeing': 1473, 'catch': 1474, 'pub': 1475, 'dates': 1476, 'partner': 1477, 'life': 1478, 'source': 1479, 'california': 1480, 'department': 1481, 'justice': 1482, 'leaving': 1483, 'rent': 1484, 'although': 1485, 'indian': 1486, 'announced': 1487, 'order': 1488, 'ply': 1489, 'idea': 1490, 'sunday': 1491, 'nd': 1492, 'phone': 1493, 'severe': 1494, 'issues': 1495, 'saturday': 1496, 'another': 1497, 'aren': 1498, 'fun': 1499, 'hopefully': 1500, 'sensible': 1501, 'stayhomesavelives': 1502, 'green': 1503, 'conference': 1504, 'greedy': 1505, 'realize': 1506, 'conditions': 1507, 'always': 1508, 'ridiculous': 1509, 'w': 1510, 'hold': 1511, 'card': 1512, 'rationing': 1513, 'stoppanicbuying': 1514, 'mother': 1515, 'unit': 1516, 'agencies': 1517, 'multiple': 1518, 'related': 1519, 'construction': 1520, 'ny': 1521, 'night': 1522, 'outside': 1523, 'show': 1524, 'appreciation': 1525, 'tirelessly': 1526, 'nurses': 1527, 'teams': 1528, 'campaign': 1529, 'starts': 1530, 'idiots': 1531, 'likely': 1532, 'victim': 1533, 'woman': 1534, 'coughed': 1535, 'cnn': 1536, 'pharmacies': 1537, 'mission': 1538, 'travel': 1539, 'laws': 1540, 'abc': 1541, 'waste': 1542, 'mail': 1543, 'carriers': 1544, 'pharmacists': 1545, 'utility': 1546, 'deaths': 1547, 'contracting': 1548, 'died': 1549, 'texas': 1550, 'survey': 1551, 'earth': 1552, 'search': 1553, 'humanity': 1554, 'something': 1555, 'road': 1556, 'mad': 1557, 'crowd': 1558, 'standing': 1559, 'peak': 1560, 'letting': 1561, 'door': 1562, 'otherwise': 1563, 'church': 1564, 'several': 1565, 'slowing': 1566, 'click': 1567, 'links': 1568, 'below': 1569, 'o': 1570, 'ftc': 1571, 'awesome': 1572, 'super': 1573, 'certain': 1574, 'mid': 1575, 'wanted': 1576, 'asks': 1577, 'guess': 1578, 'lack': 1579, 'customer': 1580, 'necessary': 1581, 'stuff': 1582, 'enter': 1583, 'particularly': 1584, 'delivering': 1585, 'taxes': 1586, 'sanitizing': 1587, 'within': 1588, 'seconds': 1589, 'needed': 1590, 'precaution': 1591, 'minimize': 1592, 'gathering': 1593, 'maintain': 1594, 'eat': 1595, 'friendly': 1596, 'reminder': 1597, 'parents': 1598, 'kids': 1599, 'thursday': 1600, 'responses': 1601, 'number': 1602, 'issued': 1603, 'shopper': 1604, 'clerk': 1605, 'fine': 1606, 'photo': 1607, 'stockup': 1608, 'habits': 1609, 'heard': 1610, 'usual': 1611, 'shock': 1612, 'guard': 1613, 'bars': 1614, 'pls': 1615, 'slots': 1616, 'passed': 1617, 'complete': 1618, 'lock': 1619, 'inside': 1620, 'crap': 1621, 'drink': 1622, 'tonight': 1623, 'chicago': 1624, 'family': 1625, 'reasonable': 1626, 'safely': 1627, 'pre': 1628, 'payment': 1629, 'md': 1630, 'families': 1631, 'meant': 1632, 'banned': 1633, 'fucking': 1634, 'respect': 1635, 'funds': 1636, 'receive': 1637, 'donated': 1638, 'advertising': 1639, 'anyone': 1640, 'themselves': 1641, 'trip': 1642, 'die': 1643, 'disabled': 1644, 'dont': 1645, 'received': 1646, 'keeps': 1647, 'respiratory': 1648, 'symptoms': 1649, 'bay': 1650, 'rest': 1651, 'oilprice': 1652, 'politics': 1653, 'commodities': 1654, 'raising': 1655, 'profiteering': 1656, 'benefits': 1657, 'kind': 1658, 'personnel': 1659, 'causing': 1660, 'problems': 1661, 'physical': 1662, 'treating': 1663, 'prevention': 1664, 'ingredients': 1665, 'shelter': 1666, 'totally': 1667, 'course': 1668, 'cities': 1669, 'usually': 1670, 'extra': 1671, 'apps': 1672, 'earnings': 1673, 'point': 1674, 'capacity': 1675, 'failed': 1676, 'airlines': 1677, 'task': 1678, 'force': 1679, 'flu': 1680, 'wonder': 1681, 'brave': 1682, 'sharply': 1683, 'hiked': 1684, 'facilities': 1685, 'vendors': 1686, 'wow': 1687, 'queue': 1688, 'aldiuk': 1689, 'fashion': 1690, 'switch': 1691, 'messages': 1692, 'lol': 1693, 'else': 1694, 'monday': 1695, 'apparently': 1696, 'counter': 1697, 'person': 1698, 'cool': 1699, 'stopstockpiling': 1700, 'international': 1701, 'challenges': 1702, 'independent': 1703, 'opened': 1704, 'doors': 1705, 'general': 1706, 'scale': 1707, 'foodbank': 1708, 'communications': 1709, 'manager': 1710, 'efforts': 1711, 'reports': 1712, 'fees': 1713, 'loan': 1714, 'play': 1715, 'hero': 1716, 'movies': 1717, 'regulations': 1718, 'costs': 1719, 'raw': 1720, 'materials': 1721, 'profit': 1722, 'levels': 1723, 'behavior': 1724, 'mind': 1725, 'south': 1726, 'lt': 1727, 'whatsapp': 1728, 'deliver': 1729, 'de': 1730, 'recession': 1731, 'political': 1732, 'users': 1733, 'app': 1734, 'trash': 1735, 'un': 1736, 'boom': 1737, 'mode': 1738, 'passes': 1739, 'china': 1740, 'amazing': 1741, 'lots': 1742, 'covididiots': 1743, 'icymi': 1744, 'alberta': 1745, 'canadian': 1746, 'decline': 1747, 'authorities': 1748, 'researchers': 1749, 'air': 1750, 'safer': 1751, 'youtube': 1752, 'dirty': 1753, 'results': 1754, 'pa': 1755, 'rising': 1756, 'street': 1757, 'recently': 1758, 'chloroquine': 1759, 'exposure': 1760, 'packed': 1761, 'bring': 1762, 'turkey': 1763, 'sees': 1764, 'death': 1765, 'monitor': 1766, 'patients': 1767, 'among': 1768, 'postal': 1769, 'spreads': 1770, 'dramatically': 1771, 'en': 1772, 'gives': 1773, 'speed': 1774, 'gasoline': 1775, 'gallon': 1776, 'towels': 1777, 'shelterinplace': 1778, 'hoarders': 1779, 'staysafe': 1780, 'didn': 1781, 'th': 1782, 'seems': 1783, 'toll': 1784, 'isolation': 1785, 'reading': 1786, 'rich': 1787, 'tests': 1788, 'mostly': 1789, 'sad': 1790, 'previous': 1791, 'stopthespread': 1792, 'potatoes': 1793, 'tough': 1794, 'moving': 1795, 'surely': 1796, 'hike': 1797, 'add': 1798, 'ourselves': 1799, 'assistance': 1800, 'lovely': 1801, 'hope': 1802, 'thoughts': 1803, 'example': 1804, 'knowing': 1805, 'managing': 1806, 'told': 1807, 'suspend': 1808, 'convenience': 1809, 'ran': 1810, 'houston': 1811, 'busy': 1812, 'bt': 1813, 'initial': 1814, 'shows': 1815, 'sites': 1816, 'carers': 1817, 'transport': 1818, 'school': 1819, 'weather': 1820, 'cleaners': 1821, 'jersey': 1822, 'medicine': 1823, 'mortgage': 1824, 'bills': 1825, 'security': 1826, 'spirit': 1827, 'restaurant': 1828, 'greater': 1829, 'owners': 1830, 'feeding': 1831, 'fear': 1832, 'changing': 1833, 'york': 1834, 'paying': 1835, 'effort': 1836, 'resources': 1837, 'wasted': 1838, 'wish': 1839, 'double': 1840, 'changes': 1841, 'adapt': 1842, 'onlineshopping': 1843, 'wages': 1844, 'comprehensive': 1845, 'package': 1846, 'suspect': 1847, 'mom': 1848, 'updated': 1849, 'page': 1850, 'activities': 1851, 'whole': 1852, 'videos': 1853, 'checking': 1854, 'wipes': 1855, 'viral': 1856, 'shocked': 1857, 'feels': 1858, 'sounds': 1859, 'dramatic': 1860, 'episode': 1861, 'wild': 1862, 'music': 1863, 'listen': 1864, 'places': 1865, 'carts': 1866, 'delivered': 1867, 'kroger': 1868, 'policies': 1869, 'earlier': 1870, 'ai': 1871, 'skyrocketing': 1872, 'blow': 1873, 'housing': 1874, 'curve': 1875, 'drives': 1876, 'immune': 1877, 'exorbitant': 1878, 'laid': 1879, 'petition': 1880, 'pasta': 1881, 'round': 1882, 'finally': 1883, 'saying': 1884, 'white': 1885, 'corvid': 1886, 'wide': 1887, 'queuing': 1888, 'son': 1889, 'stopped': 1890, 'breaking': 1891, 'announces': 1892, 'volunteer': 1893, 'index': 1894, 'percent': 1895, 'sharp': 1896, 'fell': 1897, 'ongoing': 1898, 'study': 1899, 'released': 1900, 'agriculture': 1901, 'dump': 1902, 'wsj': 1903, 'guy': 1904, 'shortages': 1905, 'felt': 1906, 'tickets': 1907, 'definitely': 1908, 'questions': 1909, 'kid': 1910, 'wrong': 1911, 'fix': 1912, 'precautions': 1913, 'addition': 1914, 'purchasing': 1915, 'meds': 1916, 'experiencing': 1917, 'veggies': 1918, 'highest': 1919, 'normally': 1920, 'grateful': 1921, 'completely': 1922, 'dry': 1923, 'turning': 1924, 'finds': 1925, 'brand': 1926, 'date': 1927, 'program': 1928, 'fl': 1929, 'older': 1930, 'child': 1931, 'traders': 1932, 'address': 1933, 'epidemic': 1934, 'tuesday': 1935, 'ug': 1936, 'nearly': 1937, 'attack': 1938, 'hate': 1939, 'holiday': 1940, 'mall': 1941, 'specific': 1942, 'shown': 1943, 'flat': 1944, 'bn': 1945, 'federal': 1946, 'offer': 1947, 'responsible': 1948, 'dollar': 1949, 'head': 1950, 'warehouses': 1951, 'panicking': 1952, 'morons': 1953, 'wtf': 1954, 'man': 1955, 'summer': 1956, 'abcnews': 1957, 'pictures': 1958, 'donation': 1959, 'worker': 1960, 'stressed': 1961, 'cashiers': 1962, 'clerks': 1963, 'challenging': 1964, 'battle': 1965, 'trend': 1966, 'scare': 1967, 'husband': 1968, 'ppl': 1969, 'putting': 1970, 'interesting': 1971, 'name': 1972, 'canadians': 1973, 'jack': 1974, 'pray': 1975, 'complaint': 1976, 'legal': 1977, 'january': 1978, 'significantly': 1979, 'hiring': 1980, 'bin': 1981, 'collectors': 1982, 'talks': 1983, 'major': 1984, 'gonna': 1985, 'highlight': 1986, 'dealing': 1987, 'constantly': 1988, 'meal': 1989, 'once': 1990, 'benefit': 1991, 'maga': 1992, 'insurance': 1993, 'charge': 1994, 'happening': 1995, 'drugs': 1996, 'closing': 1997, 'promote': 1998, 'foxnews': 1999, 'bitch': 2000, 'tissue': 2001, 'extremely': 2002, 'expensive': 2003, 'shared': 2004, 'process': 2005, 'simply': 2006, 'asked': 2007, 'baby': 2008, 'governments': 2009, 'duty': 2010, 'wall': 2011, 'greed': 2012, 'county': 2013, 'walks': 2014, 'animal': 2015, 'game': 2016, 'compared': 2017, 'immediate': 2018, 'executives': 2019, 'egg': 2020, 'fda': 2021, 'unprecedented': 2022, 'grow': 2023, 'table': 2024, 'colleagues': 2025, 'uncertain': 2026, 'added': 2027, 'output': 2028, 'fire': 2029, 'bit': 2030, 'chances': 2031, 'treat': 2032, 'makers': 2033, 'skin': 2034, 'collect': 2035, 'parks': 2036, 'globally': 2037, 'fixed': 2038, 'accounts': 2039, 'phase': 2040, 'slowly': 2041, 'looked': 2042, 'dying': 2043, 'losing': 2044, 'recommend': 2045, 'bill': 2046, 'gets': 2047, 'excessive': 2048, 'shot': 2049, 'reported': 2050, 'wednesday': 2051, 'lining': 2052, 'vaccines': 2053, 'trolley': 2054, 'nowhere': 2055, 'nice': 2056, 'medicines': 2057, 'couple': 2058, 'folks': 2059, 'psa': 2060, 'rural': 2061, 'grocers': 2062, 'ur': 2063, 'environment': 2064, 'wife': 2065, 'analysts': 2066, 'schools': 2067, 'reserve': 2068, 'makes': 2069, 'cold': 2070, 'covered': 2071, 'ceos': 2072, 'jump': 2073, 'auspol': 2074, 'mental': 2075, 'treatment': 2076, 'quarantined': 2077, 'categories': 2078, 'cost': 2079, 'inflating': 2080, 'bread': 2081, 'cheese': 2082, 'logistics': 2083, 'above': 2084, 'supplychain': 2085, 'member': 2086, 'purchased': 2087, 'resource': 2088, 'impacts': 2089, 'gain': 2090, 'respond': 2091, 'god': 2092, 'bless': 2093, 'piersmorgan': 2094, 'majority': 2095, 'experienced': 2096, 'space': 2097, 'risking': 2098, 'cdcgov': 2099, 'african': 2100, 'four': 2101, 'suddenly': 2102, 'baskets': 2103, 'doubt': 2104, 'challenge': 2105, 'certainly': 2106, 'demanding': 2107, 'hardest': 2108, 'purchases': 2109, 'novel': 2110, 'freezer': 2111, 'canon': 2112, 'bankers': 2113, 'words': 2114, 'trade': 2115, 'commission': 2116, 'administration': 2117, 'platforms': 2118, 'mark': 2119, 'analyst': 2120, 'avoiding': 2121, 'began': 2122, 'particular': 2123, 'ideas': 2124, 'useful': 2125, 'staple': 2126, 'stupidity': 2127, 'past': 2128, 'sainsbury': 2129, 'lowering': 2130, 'civil': 2131, 'charities': 2132, 'normal': 2133, 'mobile': 2134, 'tax': 2135, 'cc': 2136, 'confirmed': 2137, 'governor': 2138, 'estate': 2139, 'rapidly': 2140, 'history': 2141, 'highly': 2142, 'clock': 2143, 'stand': 2144, 'warning': 2145, 'cure': 2146, 'exercise': 2147, 'filled': 2148, 'french': 2149, 'biggest': 2150, 'impacted': 2151, 'near': 2152, 'cross': 2153, 'socialdistanacing': 2154, 'flattenthecurve': 2155, 'council': 2156, 'regularly': 2157, 'vital': 2158, 'military': 2159, 'sending': 2160, 'thousands': 2161, 'matter': 2162, 'soup': 2163, 'donate': 2164, 'assholes': 2165, 'forbes': 2166, 'stops': 2167, 'girl': 2168, 'properly': 2169, 'dog': 2170, 'stepping': 2171, 'ahead': 2172, 'threats': 2173, 'boost': 2174, 'asia': 2175, 'warned': 2176, 'damage': 2177, 'gel': 2178, 'alternative': 2179, 'effect': 2180, 'rental': 2181, 'cheap': 2182, 'colorado': 2183, 'pretty': 2184, 'edition': 2185, 'finances': 2186, 'site': 2187, 'streaming': 2188, 'experiences': 2189, 'gift': 2190, 'creative': 2191, 'eye': 2192, 'exactly': 2193, 'refunds': 2194, 'neighbours': 2195, 'helpful': 2196, 'comments': 2197, 'temporarily': 2198, 'transmission': 2199, 'al': 2200, 'fault': 2201, 'planning': 2202, 'wiping': 2203, 'shall': 2204, 'bbcnews': 2205, 'require': 2206, 'slot': 2207, 'systems': 2208, 'homes': 2209, 'consumption': 2210, 'wipe': 2211, 'desperation': 2212, 'la': 2213, 'affairs': 2214, 'max': 2215, 'gone': 2216, 'shelf': 2217, 'stable': 2218, 'tried': 2219, 'setting': 2220, 'natural': 2221, 'training': 2222, 'fellow': 2223, 'platform': 2224, 'sarscov': 2225, 'killed': 2226, 'attempt': 2227, 'amidst': 2228, 'viruses': 2229, 'affect': 2230, 'toronto': 2231, 'land': 2232, 'ground': 2233, 'wondering': 2234, 'disinfecting': 2235, 'authority': 2236, 'responsibly': 2237, 'created': 2238, 'negative': 2239, 'directly': 2240, 'sh': 2241, 'stuck': 2242, 'japan': 2243, 'interview': 2244, 'clothes': 2245, 'hearing': 2246, 'coronaviruschallenge': 2247, 'faces': 2248, 'revenue': 2249, 'tourism': 2250, 'human': 2251, 'mckinsey': 2252, 'em': 2253, 'circumstances': 2254, 'concern': 2255, 'heading': 2256, 'ebay': 2257, 'ashamed': 2258, 'known': 2259, 'interest': 2260, 'anxiety': 2261, 'panicbuyinguk': 2262, 'apocalypse': 2263, 'crash': 2264, 'awareness': 2265, 'secure': 2266, 'extreme': 2267, 'include': 2268, 'reaching': 2269, 'standards': 2270, 'preparing': 2271, 'becomes': 2272, 'announce': 2273, 'helps': 2274, 'profits': 2275, 'boris': 2276, 'pubs': 2277, 'either': 2278, 'dead': 2279, 'emptied': 2280, 'uklockdown': 2281, 'dream': 2282, 'marketers': 2283, 'strategies': 2284, 'remain': 2285, 'foodbanks': 2286, 'besides': 2287, 'hygiene': 2288, 'importance': 2289, 'book': 2290, 'arrested': 2291, 'owner': 2292, 'retailer': 2293, 'friday': 2294, 'bulk': 2295, 'becoming': 2296, 'et': 2297, 'town': 2298, 'officials': 2299, 'answer': 2300, 'wasn': 2301, 'prepared': 2302, 'hospitality': 2303, 'midst': 2304, 'mandatory': 2305, 'shutdown': 2306, 'thankyou': 2307, 'individual': 2308, 'kenya': 2309, 'giant': 2310, 'finished': 2311, 'meeting': 2312, 'rate': 2313, 'committed': 2314, 'additional': 2315, 'brad': 2316, 'paisley': 2317, 'crowds': 2318, 'faith': 2319, 'resulting': 2320, 'losses': 2321, 'nationwide': 2322, 'women': 2323, 'size': 2324, 'held': 2325, 'european': 2326, 'urges': 2327, 'signs': 2328, 'reaction': 2329, 'grab': 2330, 'puzzle': 2331, 'science': 2332, 'pickup': 2333, 'suppliers': 2334, 'bid': 2335, 'weird': 2336, 'myself': 2337, 'sometimes': 2338, 'risks': 2339, 'sight': 2340, 'average': 2341, 'forever': 2342, 'touch': 2343, 'kits': 2344, 'volume': 2345, 'trends': 2346, 'thru': 2347, 'cbc': 2348, 'producers': 2349, 'digital': 2350, 'scary': 2351, 'movie': 2352, 'floor': 2353, 'reasons': 2354, 'retweet': 2355, 'middle': 2356, 'agency': 2357, 'stupid': 2358, 'donald': 2359, 'technology': 2360, 'win': 2361, 'google': 2362, 'mine': 2363, 'project': 2364, 'development': 2365, 'barrel': 2366, 'movement': 2367, 'truth': 2368, 'class': 2369, 'responsibility': 2370, 'pr': 2371, 'coffee': 2372, 'toward': 2373, 'bunch': 2374, 'damn': 2375, 'surface': 2376, 'drinking': 2377, 'fightcovid': 2378, 'virtual': 2379, 'cos': 2380, 'receiving': 2381, 'informed': 2382, 'window': 2383, 'shameful': 2384, 'unable': 2385, 'fill': 2386, 'fridge': 2387, 'ice': 2388, 'ex': 2389, 'handwashing': 2390, 'passing': 2391, 'cart': 2392, 'spend': 2393, 'unnecessary': 2394, 'refuse': 2395, 'ke': 2396, 'mar': 2397, 'petroleum': 2398, 'remains': 2399, 'podcast': 2400, 'write': 2401, 'word': 2402, 'amounts': 2403, 'lowered': 2404, 'cents': 2405, 'broke': 2406, 'usd': 2407, 'activity': 2408, 'includes': 2409, 'education': 2410, 'shoes': 2411, 'distillery': 2412, 'piling': 2413, 'drinks': 2414, 'reached': 2415, 'adults': 2416, 'missing': 2417, 'smaller': 2418, 'poll': 2419, 'commodity': 2420, 'investment': 2421, 'climate': 2422, 'disinfectants': 2423, 'union': 2424, 'throw': 2425, 'focused': 2426, 'locations': 2427, 'red': 2428, 'beans': 2429, 'tinned': 2430, 'driving': 2431, 'advised': 2432, 'collective': 2433, 'form': 2434, 'explains': 2435, 'thinks': 2436, 'tweet': 2437, 'tv': 2438, 'entertainment': 2439, 'germs': 2440, 'isolating': 2441, 'individuals': 2442, 'recover': 2443, 'sitting': 2444, 'pop': 2445, 'excuse': 2446, 'ignore': 2447, 'attorney': 2448, 'urged': 2449, 'file': 2450, 'sanitiser': 2451, 'brilliant': 2452, 'stayhomestaysafe': 2453, 'loss': 2454, 'priorities': 2455, 'director': 2456, 'workfromhome': 2457, 'cooking': 2458, 'ssupnow': 2459, 'contest': 2460, 'giveawayalert': 2461, 'appears': 2462, 'doctor': 2463, 'network': 2464, 'offered': 2465, 'final': 2466, 'players': 2467, 'beat': 2468, 'unlikely': 2469, 'curbside': 2470, 'booked': 2471, 'supposed': 2472, 'selfisolation': 2473, 'account': 2474, 'surprised': 2475, 'cent': 2476, 'touched': 2477, 'chicken': 2478, 'stockpile': 2479, 'canned': 2480, 'corn': 2481, 'games': 2482, 'evening': 2483, 'ups': 2484, 'view': 2485, 'protected': 2486, 'cov': 2487, 'pro': 2488, 'attitudes': 2489, 'behaviors': 2490, 'inflate': 2491, 'disgusting': 2492, 'shocking': 2493, 'room': 2494, 'clothing': 2495, 'stopping': 2496, 'assist': 2497, 'ocado': 2498, 'cant': 2499, 'tells': 2500, 'party': 2501, 'visited': 2502, 'learned': 2503, 'packages': 2504, 'monitoring': 2505, 'exports': 2506, 'tx': 2507, 'hurt': 2508, 'famous': 2509, 'gotta': 2510, 'literally': 2511, 'opportunities': 2512, 'los': 2513, 'remind': 2514, 'everybody': 2515, 'track': 2516, 'population': 2517, 'basis': 2518, 'slowdown': 2519, 'visits': 2520, 'closer': 2521, 'picture': 2522, 'false': 2523, 'claiming': 2524, 'criminal': 2525, 'illness': 2526, 'streets': 2527, 'rights': 2528, 'reveals': 2529, 'strategy': 2530, 'knows': 2531, 'ft': 2532, 'evidence': 2533, 'urgent': 2534, 'heb': 2535, 'build': 2536, 'steel': 2537, 'hair': 2538, 'actual': 2539, 'corporate': 2540, 'handle': 2541, 'areas': 2542, 'options': 2543, 'inc': 2544, 'priority': 2545, 'hardship': 2546, 'corporations': 2547, 'availability': 2548, 'young': 2549, 'walked': 2550, 'alone': 2551, 'rush': 2552, 'necessities': 2553, 'michigan': 2554, 'welcome': 2555, 'facemask': 2556, 'hungry': 2557, 'managers': 2558, 'closure': 2559, 'luxury': 2560, 'flights': 2561, 'san': 2562, 'gotten': 2563, 'plants': 2564, 'knew': 2565, 'late': 2566, 'led': 2567, 'rapid': 2568, 'outlook': 2569, 'sectors': 2570, 'pushing': 2571, 'playing': 2572, 'role': 2573, 'largest': 2574, 'discounts': 2575, 'purell': 2576, 'sudden': 2577, 'perishable': 2578, 'sports': 2579, 'field': 2580, 'depression': 2581, 'stress': 2582, 'trust': 2583, 'economies': 2584, 'region': 2585, 'usage': 2586, 'financially': 2587, 'nature': 2588, 'roof': 2589, 'kills': 2590, 'trouble': 2591, 'collapsing': 2592, 'immediately': 2593, 'returns': 2594, 'da': 2595, 'pricing': 2596, 'black': 2597, 'africa': 2598, 'survival': 2599, 'center': 2600, 'skynews': 2601, 'men': 2602, 'gdp': 2603, 'lysol': 2604, 'flight': 2605, 'beauty': 2606, 'stressful': 2607, 'fish': 2608, 'fb': 2609, 'yr': 2610, 'present': 2611, 'caring': 2612, 'ma': 2613, 'exploiting': 2614, 'meals': 2615, 'create': 2616, 'itself': 2617, 'sadly': 2618, 'christmas': 2619, 'surges': 2620, 'session': 2621, 'forces': 2622, 'discuss': 2623, 'cream': 2624, 'delays': 2625, 'entire': 2626, 'solutions': 2627, 'none': 2628, 'cashier': 2629, 'safeway': 2630, 'choose': 2631, 'packaging': 2632, 'ordering': 2633, 'east': 2634, 'nations': 2635, 'aside': 2636, 'disinfect': 2637, 'oott': 2638, 'favorite': 2639, 'stimulus': 2640, 'aldi': 2641, 'executive': 2642, 'recipes': 2643, 'pet': 2644, 'exploit': 2645, 'dogs': 2646, 'senior': 2647, 'noticed': 2648, 'feed': 2649, 'disaster': 2650, 'borders': 2651, 'united': 2652, 'anywhere': 2653, 'management': 2654, 'nor': 2655, 'loads': 2656, 'hire': 2657, 'killing': 2658, 'art': 2659, 'coronapocalypse': 2660, 'third': 2661, 'futures': 2662, 'clearly': 2663, 'surging': 2664, 'remote': 2665, 'agricultural': 2666, 'lie': 2667, 'wholefoods': 2668, 'prime': 2669, 'fuck': 2670, 'coronavirusaustralia': 2671, 'aus': 2672, 'launches': 2673, 'partners': 2674, 'ticket': 2675, 'officer': 2676, 'recipe': 2677, 'washington': 2678, 'dc': 2679, 'continuing': 2680, 'obviously': 2681, 'extortionate': 2682, 'ag': 2683, 'helped': 2684, 'suppose': 2685, 'cutting': 2686, 'expectations': 2687, 'reducing': 2688, 'hopes': 2689, 'tip': 2690, 'spent': 2691, 'asian': 2692, 'crore': 2693, 'surrounding': 2694, 'ration': 2695, 'society': 2696, 'atm': 2697, 'funding': 2698, 'curfew': 2699, 'alive': 2700, 'target': 2701, 'dozen': 2702, 'pause': 2703, 'opinion': 2704, 'dropping': 2705, 'deals': 2706, 'holding': 2707, 'overall': 2708, 'age': 2709, 'absolute': 2710, 'vote': 2711, 'serve': 2712, 'comment': 2713, 'body': 2714, 'singapore': 2715, 'star': 2716, 'crowded': 2717, 'impossible': 2718, 'putin': 2719, 'border': 2720, 'complaints': 2721, 'cannabis': 2722, 'unsung': 2723, 'quarter': 2724, 'closes': 2725, 'basket': 2726, 'starvation': 2727, 'isolated': 2728, 'beverage': 2729, 'permanent': 2730, 'firefighters': 2731, 'boxes': 2732, 'toiletpaperapocalypse': 2733, 'handles': 2734, 'centers': 2735, 'delayed': 2736, 'crucial': 2737, 'reporting': 2738, 'spikes': 2739, 'immunity': 2740, 'yo': 2741, 'parts': 2742, 'industrial': 2743, 'centre': 2744, 'choice': 2745, 'heart': 2746, 'cleared': 2747, 'met': 2748, 'transportation': 2749, 'savings': 2750, 'fmcg': 2751, 'king': 2752, 'kg': 2753, 'wrote': 2754, 'firm': 2755, 'previously': 2756, 'warn': 2757, 'na': 2758, 'spain': 2759, 'coronavirusupdates': 2760, 'anyway': 2761, 'france': 2762, 'quite': 2763, 'angry': 2764, 'horrible': 2765, 'lets': 2766, 'decisions': 2767, 'connect': 2768, 'garbage': 2769, 'animals': 2770, 'section': 2771, 'iraq': 2772, 'bloody': 2773, 'rude': 2774, 'lockdownuk': 2775, 'bonus': 2776, 'sleep': 2777, 'surprise': 2778, 'struggle': 2779, 'difference': 2780, 'formula': 2781, 'kitchen': 2782, 'trillion': 2783, 'senate': 2784, 'hoarded': 2785, 'possibly': 2786, 'proper': 2787, 'board': 2788, 'push': 2789, 'caught': 2790, 'england': 2791, 'responding': 2792, 'op': 2793, 'politicians': 2794, 'continued': 2795, 'saudiarabia': 2796, 'soaring': 2797, 'ends': 2798, 'poverty': 2799, 'official': 2800, 'marketplace': 2801, 'ya': 2802, 'snap': 2803, 'dangerous': 2804, 'rule': 2805, 'potentially': 2806, 'phishing': 2807, 'launch': 2808, 'turned': 2809, 'instacart': 2810, 'kindness': 2811, 'driver': 2812, 'worries': 2813, 'storage': 2814, 'wet': 2815, 'truckers': 2816, 'irresponsible': 2817, 'ghana': 2818, 'recommendations': 2819, 'incredible': 2820, 'leader': 2821, 'surplus': 2822, 'bored': 2823, 'stayhomechallenge': 2824, 'forecast': 2825, 'mention': 2826, 'holidays': 2827, 'blue': 2828, 'feb': 2829, 'dollars': 2830, 'cdc': 2831, 'officers': 2832, 'cards': 2833, 'patterns': 2834, 'cat': 2835, 'distilleries': 2836, 'commercial': 2837, 'thankful': 2838, 'granted': 2839, 'event': 2840, 'cures': 2841, 'yours': 2842, 'type': 2843, 'yourselves': 2844, 'visiting': 2845, 'germany': 2846, 'debt': 2847, 'processing': 2848, 'uber': 2849, 'crying': 2850, 'developed': 2851, 'distribute': 2852, 'unemployed': 2853, 'employment': 2854, 'lidlgb': 2855, 'buys': 2856, 'asap': 2857, 'madness': 2858, 'johnson': 2859, 'grocerystore': 2860, 'dies': 2861, 'workforce': 2862, 'restricted': 2863, 'refusing': 2864, 'garden': 2865, 'takeout': 2866, 'strain': 2867, 'infections': 2868, 'covering': 2869, 'strange': 2870, 'speak': 2871, 'homeless': 2872, 'rip': 2873, 'nofood': 2874, 'easier': 2875, 'com': 2876, 'cattle': 2877, 'catching': 2878, 'willing': 2879, 'vegetable': 2880, 'ministry': 2881, 'malls': 2882, 'mrx': 2883, 'lift': 2884, 'slash': 2885, 'cbd': 2886, 'soar': 2887, 'aid': 2888, 'freeze': 2889, 'tired': 2890, 'convid': 2891, 'iran': 2892, 'hotels': 2893, 'airport': 2894, 'transit': 2895, 'ability': 2896, 'invest': 2897, 'welfare': 2898, 'facemasks': 2899, 'charges': 2900, 'coverage': 2901, 'careful': 2902, 'idiot': 2903, 'shoplocal': 2904, 'entering': 2905, 'introduced': 2906, 'exchange': 2907, 'foot': 2908, 'danger': 2909, 'acting': 2910, 'listed': 2911, 'understanding': 2912, 'gb': 2913, 'fallout': 2914, 'whose': 2915, 'pizza': 2916, 'load': 2917, 'hoax': 2918, 'allegedly': 2919, 'impacting': 2920, 'briefing': 2921, 'bog': 2922, 'accept': 2923, 'approach': 2924, 'inventory': 2925, 'fail': 2926, 'vigilant': 2927, 'litre': 2928, 'hub': 2929, 'mayor': 2930, 'bailout': 2931, 'banking': 2932, 'msnbc': 2933, 'manchester': 2934, 'heartbreaking': 2935, 'wi': 2936, 'turns': 2937, 'valley': 2938, 'channel': 2939, 'valuable': 2940, 'wave': 2941, 'distributors': 2942, 'plummeting': 2943, 'listening': 2944, 'excellent': 2945, 'crises': 2946, 'contribute': 2947, 'easily': 2948, 'handwash': 2949, 'monthly': 2950, 'vp': 2951, 'shutting': 2952, 'spitting': 2953, 'blood': 2954, 'panicbuyers': 2955, 'refund': 2956, 'forcing': 2957, 'privacy': 2958, 'pennsylvania': 2959, 'threatening': 2960, 'anymore': 2961, 'nytimes': 2962, 'gmb': 2963, 'ending': 2964, 'ph': 2965, 'nz': 2966, 'wheat': 2967, 'hotline': 2968, 'harder': 2969, 'smh': 2970}\n"
     ]
    }
   ],
   "source": [
    "print(vectorizer.title_vocab._token_to_idx)"
   ]
  },
  {
   "cell_type": "code",
   "execution_count": 43,
   "metadata": {},
   "outputs": [
    {
     "name": "stdout",
     "output_type": "stream",
     "text": [
      "{'Negative': 0, 'Positive': 1}\n"
     ]
    }
   ],
   "source": [
    "print(vectorizer.category_vocab._token_to_idx)"
   ]
  },
  {
   "cell_type": "code",
   "execution_count": 44,
   "metadata": {},
   "outputs": [
    {
     "data": {
      "text/plain": [
       "163"
      ]
     },
     "execution_count": 44,
     "metadata": {},
     "output_type": "execute_result"
    }
   ],
   "source": [
    "dataset._max_seq_length"
   ]
  },
  {
   "cell_type": "markdown",
   "metadata": {},
   "source": [
    "### Training and Testing loop"
   ]
  },
  {
   "cell_type": "code",
   "execution_count": 16,
   "metadata": {},
   "outputs": [],
   "source": [
    "def manually_tune(config):\n",
    "    classifier = NewsClassifier(embedding_size=config.embedding_size,          # e.g, 100\n",
    "                                num_embeddings=len(vectorizer.title_vocab),  # e.g., 3409\n",
    "                                num_channels=args.num_channels,              # e.g., 100\n",
    "                                hidden_dim=config.hidden_dim,                  # e.g., 100\n",
    "                                num_classes=len(vectorizer.category_vocab),  # e.g., 4\n",
    "                                dropout_p=config.dropout_p,                    # e.g., 0.1\n",
    "                                pretrained_embeddings=embeddings,\n",
    "                                padding_idx=0)\n",
    "    classifier = classifier.to(args.device)\n",
    "    dataset.class_weights = dataset.class_weights.to(args.device)\n",
    "\n",
    "    loss_func = nn.CrossEntropyLoss(dataset.class_weights)\n",
    "    optimizer = optim.Adam(classifier.parameters(), lr=config.learning_rate)\n",
    "    scheduler = optim.lr_scheduler.ReduceLROnPlateau(optimizer=optimizer,\n",
    "                                               mode='min', factor=0.5,\n",
    "                                               patience=1)\n",
    "\n",
    "    train_state = make_train_state(config)\n",
    "\n",
    "    epoch_bar = tqdm(desc='training routine', total=args.num_epochs, position=0)\n",
    "\n",
    "    dataset.set_split('train')\n",
    "    train_bar = tqdm(desc='split=train', total=dataset.get_num_batches(args.batch_size), position=1, leave=True)\n",
    "\n",
    "    dataset.set_split('val')\n",
    "    val_bar = tqdm(desc='split=val', total=dataset.get_num_batches(args.batch_size), position=1, leave=True)\n",
    "\n",
    "    try:\n",
    "        for epoch_index in range(args.num_epochs):\n",
    "            train_state['epoch_index'] = epoch_index\n",
    "\n",
    "            # Iterate over training dataset\n",
    "\n",
    "            # setup: batch generator, set loss and acc to 0, set train mode on\n",
    "\n",
    "            dataset.set_split('train')\n",
    "            batch_generator = generate_batches(dataset, \n",
    "                                               batch_size=args.batch_size, \n",
    "                                               device=args.device)\n",
    "            running_loss = 0.0\n",
    "            running_acc = 0.0\n",
    "            classifier.train()\n",
    "\n",
    "            for batch_index, batch_dict in enumerate(batch_generator):\n",
    "                # the training routine is these 5 steps:\n",
    "\n",
    "                # --------------------------------------\n",
    "                # step 1. zero the gradients\n",
    "                optimizer.zero_grad()\n",
    "\n",
    "                # step 2. compute the output\n",
    "                y_pred = classifier(batch_dict['x_data']) # (batch, seq_len) -> (batch, num_classes)\n",
    "\n",
    "                # step 3. compute the loss\n",
    "                loss = loss_func(y_pred, batch_dict['y_target'])\n",
    "                loss_t = loss.item()\n",
    "                running_loss += (loss_t - running_loss) / (batch_index + 1)\n",
    "\n",
    "                # step 4. use loss to produce gradients\n",
    "                loss.backward()\n",
    "\n",
    "                # step 5. use optimizer to take gradient step\n",
    "                optimizer.step()\n",
    "                # -----------------------------------------\n",
    "                # compute the accuracy\n",
    "                acc_t = compute_accuracy(y_pred, batch_dict['y_target'])\n",
    "                running_acc += (acc_t - running_acc) / (batch_index + 1)\n",
    "\n",
    "                # update bar\n",
    "                train_bar.set_postfix(loss=running_loss, acc=running_acc, \n",
    "                                      epoch=epoch_index)\n",
    "                train_bar.update()\n",
    "\n",
    "            train_state['train_loss'].append(running_loss)\n",
    "            train_state['train_acc'].append(running_acc)\n",
    "\n",
    "            # Iterate over val dataset\n",
    "\n",
    "            # setup: batch generator, set loss and acc to 0; set eval mode on\n",
    "            dataset.set_split('val')\n",
    "            batch_generator = generate_batches(dataset, \n",
    "                                               batch_size=args.batch_size, \n",
    "                                               device=args.device)\n",
    "            running_loss = 0.\n",
    "            running_acc = 0.\n",
    "            classifier.eval()\n",
    "\n",
    "            for batch_index, batch_dict in enumerate(batch_generator):\n",
    "\n",
    "                # compute the output\n",
    "                y_pred =  classifier(batch_dict['x_data'])\n",
    "\n",
    "                # step 3. compute the loss\n",
    "                loss = loss_func(y_pred, batch_dict['y_target'])\n",
    "                loss_t = loss.item()\n",
    "                running_loss += (loss_t - running_loss) / (batch_index + 1)\n",
    "\n",
    "                # compute the accuracy\n",
    "                acc_t = compute_accuracy(y_pred, batch_dict['y_target'])\n",
    "                running_acc += (acc_t - running_acc) / (batch_index + 1)\n",
    "                val_bar.set_postfix(loss=running_loss, acc=running_acc, \n",
    "                                epoch=epoch_index)\n",
    "                val_bar.update()\n",
    "\n",
    "            train_state['val_loss'].append(running_loss)\n",
    "            train_state['val_acc'].append(running_acc)\n",
    "\n",
    "            train_state = update_train_state(args=args, model=classifier,\n",
    "                                             train_state=train_state)\n",
    "\n",
    "            scheduler.step(train_state['val_loss'][-1])\n",
    "\n",
    "            if train_state['stop_early']:\n",
    "                break\n",
    "\n",
    "            train_bar.n = 0\n",
    "            val_bar.n = 0\n",
    "            epoch_bar.update()\n",
    "    except KeyboardInterrupt:\n",
    "        print(\"Exiting loop\")\n",
    "    return config,train_state,classifier\n"
   ]
  },
  {
   "cell_type": "code",
   "execution_count": 69,
   "metadata": {},
   "outputs": [],
   "source": [
    "%matplotlib inline\n",
    "import matplotlib.pyplot as plt\n",
    "def plot_loss(train_state):\n",
    "    acc = train_state['train_acc']\n",
    "    val_acc = train_state['val_acc']\n",
    "    loss = train_state['train_loss']\n",
    "    val_loss = train_state['val_loss']\n",
    "\n",
    "    epochs = range(1, len(acc) + 1)\n",
    "\n",
    "    # \"bo\" is for \"blue dot\"\n",
    "    plt.plot(epochs, loss, 'bo', label='Training loss')\n",
    "    # b is for \"solid blue line\"\n",
    "    plt.plot(epochs, val_loss, 'b', label='Validation loss')\n",
    "    plt.title('Training and validation loss')\n",
    "    plt.xlabel('Epochs')\n",
    "    plt.ylabel('Loss')\n",
    "    plt.legend()\n",
    "\n",
    "    plt.show()\n",
    "    \n",
    "def plot_acc(train_state):\n",
    "    acc = train_state['train_acc']\n",
    "    val_acc = train_state['val_acc']\n",
    "    loss = train_state['train_loss']\n",
    "    val_loss = train_state['val_loss']\n",
    "    epochs = range(1, len(acc) + 1)\n",
    "\n",
    "    plt.plot(epochs, acc, 'bo', label='Training acc')\n",
    "    plt.plot(epochs, val_acc, 'b', label='Validation acc')\n",
    "    plt.title('Training and validation accuracy')\n",
    "    plt.xlabel('Epochs')\n",
    "    plt.ylabel('Accuracy')\n",
    "    plt.legend()\n",
    "\n",
    "    plt.show()\n",
    "    \n",
    "def class_test(classifier,train_state):\n",
    "    classifier.load_state_dict(torch.load(train_state['model_filename']))\n",
    "    classifier = classifier.to(args.device)\n",
    "    dataset.class_weights = dataset.class_weights.to(args.device)\n",
    "    loss_func = nn.CrossEntropyLoss(dataset.class_weights)\n",
    "\n",
    "    dataset.set_split('test')\n",
    "    batch_generator = generate_batches(dataset, \n",
    "                                       batch_size=args.batch_size, \n",
    "                                       device=args.device)\n",
    "    running_loss = 0.\n",
    "    running_acc = 0.\n",
    "    classifier.eval()\n",
    "    y_pred_list = []    # store predicted values for confusion matrix\n",
    "    y_target_list = []\n",
    "    \n",
    "    for batch_index, batch_dict in enumerate(batch_generator):\n",
    "        # compute the output\n",
    "        y_pred =  classifier(batch_dict['x_data'])\n",
    "        y_pred_list.extend(y_pred.max(dim=1).indices.cpu().long().numpy())\n",
    "        y_target_list.extend(batch_dict['y_target'].cpu().numpy())\n",
    "        # compute the loss\n",
    "        loss = loss_func(y_pred, batch_dict['y_target'])\n",
    "        loss_t = loss.item()\n",
    "        running_loss += (loss_t - running_loss) / (batch_index + 1)\n",
    "\n",
    "        # compute the accuracy\n",
    "        acc_t = compute_accuracy(y_pred, batch_dict['y_target'])\n",
    "        running_acc += (acc_t - running_acc) / (batch_index + 1)\n",
    "\n",
    "    train_state['test_loss'] = running_loss\n",
    "    train_state['test_acc'] = running_acc\n",
    "    print(\"Test loss: {};\".format(train_state['test_loss']))\n",
    "    print(\"Test Accuracy: {}\".format(train_state['test_acc']))\n",
    "    return  y_pred_list, y_target_list\n",
    "       "
   ]
  },
  {
   "cell_type": "markdown",
   "metadata": {},
   "source": [
    "### Baseline Model"
   ]
  },
  {
   "cell_type": "markdown",
   "metadata": {},
   "source": [
    "#### Without Glove"
   ]
  },
  {
   "cell_type": "code",
   "execution_count": 18,
   "metadata": {},
   "outputs": [
    {
     "data": {
      "application/vnd.jupyter.widget-view+json": {
       "model_id": "bef774eae36141048bf27d6c6fc78dde",
       "version_major": 2,
       "version_minor": 0
      },
      "text/plain": [
       "HBox(children=(FloatProgress(value=0.0, description='training routine', max=25.0, style=ProgressStyle(descript…"
      ]
     },
     "metadata": {},
     "output_type": "display_data"
    },
    {
     "data": {
      "application/vnd.jupyter.widget-view+json": {
       "model_id": "c94ee8c87c1b454b82f0d67fe09bfa21",
       "version_major": 2,
       "version_minor": 0
      },
      "text/plain": [
       "HBox(children=(FloatProgress(value=0.0, description='split=train', max=209.0, style=ProgressStyle(description_…"
      ]
     },
     "metadata": {},
     "output_type": "display_data"
    },
    {
     "data": {
      "application/vnd.jupyter.widget-view+json": {
       "model_id": "a23e364f0edb4ba1b6088f2f6b479c43",
       "version_major": 2,
       "version_minor": 0
      },
      "text/plain": [
       "HBox(children=(FloatProgress(value=0.0, description='split=val', max=52.0, style=ProgressStyle(description_wid…"
      ]
     },
     "metadata": {},
     "output_type": "display_data"
    },
    {
     "name": "stderr",
     "output_type": "stream",
     "text": [
      "C:\\Users\\lucia\\anaconda3\\lib\\site-packages\\torch\\nn\\functional.py:652: UserWarning: Named tensors and all their associated APIs are an experimental feature and subject to change. Please do not use them for anything important until they are released as stable. (Triggered internally at  ..\\c10/core/TensorImpl.h:1156.)\n",
      "  return torch.max_pool1d(input, kernel_size, stride, padding, dilation, ceil_mode)\n"
     ]
    }
   ],
   "source": [
    "conf_base,train_state_base,cls_base = manually_tune(args)"
   ]
  },
  {
   "cell_type": "code",
   "execution_count": 34,
   "metadata": {},
   "outputs": [
    {
     "data": {
      "image/png": "[encoded data removed]",
      "text/plain": [
       "<Figure size 432x288 with 1 Axes>"
      ]
     },
     "metadata": {
      "needs_background": "light"
     },
     "output_type": "display_data"
    },
    {
     "data": {
      "image/png": "[encoded data removed]",
      "text/plain": [
       "<Figure size 432x288 with 1 Axes>"
      ]
     },
     "metadata": {
      "needs_background": "light"
     },
     "output_type": "display_data"
    },
    {
     "name": "stdout",
     "output_type": "stream",
     "text": [
      "Test loss: 0.38782324641942983;\n",
      "Test Accuracy: 82.61718749999999\n"
     ]
    }
   ],
   "source": [
    "plot_loss(train_state_base)\n",
    "plot_acc(train_state_base)\n",
    "class_test(cls_base, train_state_base)"
   ]
  },
  {
   "cell_type": "markdown",
   "metadata": {},
   "source": [
    "#### With Glove"
   ]
  },
  {
   "cell_type": "code",
   "execution_count": 27,
   "metadata": {},
   "outputs": [
    {
     "data": {
      "application/vnd.jupyter.widget-view+json": {
       "model_id": "f3e395fe8981479eb9ed5193d1f8450b",
       "version_major": 2,
       "version_minor": 0
      },
      "text/plain": [
       "HBox(children=(FloatProgress(value=0.0, description='training routine', max=25.0, style=ProgressStyle(descript…"
      ]
     },
     "metadata": {},
     "output_type": "display_data"
    },
    {
     "data": {
      "application/vnd.jupyter.widget-view+json": {
       "model_id": "d63bba40147c4df3abaa156e90b7faa6",
       "version_major": 2,
       "version_minor": 0
      },
      "text/plain": [
       "HBox(children=(FloatProgress(value=0.0, description='split=train', max=209.0, style=ProgressStyle(description_…"
      ]
     },
     "metadata": {},
     "output_type": "display_data"
    },
    {
     "data": {
      "application/vnd.jupyter.widget-view+json": {
       "model_id": "44a2f178dff14740b253787b107bd53b",
       "version_major": 2,
       "version_minor": 0
      },
      "text/plain": [
       "HBox(children=(FloatProgress(value=0.0, description='split=val', max=52.0, style=ProgressStyle(description_wid…"
      ]
     },
     "metadata": {},
     "output_type": "display_data"
    }
   ],
   "source": [
    "#run after deleting the previous pth file \n",
    "conf_base2,train_state_base2,cls_base2 = manually_tune(args)"
   ]
  },
  {
   "cell_type": "code",
   "execution_count": 35,
   "metadata": {},
   "outputs": [
    {
     "data": {
      "image/png": "[encoded data removed]",
      "text/plain": [
       "<Figure size 432x288 with 1 Axes>"
      ]
     },
     "metadata": {
      "needs_background": "light"
     },
     "output_type": "display_data"
    },
    {
     "data": {
      "image/png": "[encoded data removed]",
      "text/plain": [
       "<Figure size 432x288 with 1 Axes>"
      ]
     },
     "metadata": {
      "needs_background": "light"
     },
     "output_type": "display_data"
    },
    {
     "name": "stdout",
     "output_type": "stream",
     "text": [
      "Test loss: 0.3876174415151279;\n",
      "Test Accuracy: 82.35677083333336\n"
     ]
    }
   ],
   "source": [
    "plot_loss(train_state_base2)\n",
    "plot_acc(train_state_base2)\n",
    "class_test(cls_base2, train_state_base2)"
   ]
  },
  {
   "cell_type": "markdown",
   "metadata": {},
   "source": [
    "### Hyperparameter Tune"
   ]
  },
  {
   "cell_type": "code",
   "execution_count": 45,
   "metadata": {},
   "outputs": [
    {
     "data": {
      "application/vnd.jupyter.widget-view+json": {
       "model_id": "edc31b44263a402694976f773c35e544",
       "version_major": 2,
       "version_minor": 0
      },
      "text/plain": [
       "HBox(children=(FloatProgress(value=0.0, description='training routine', max=25.0, style=ProgressStyle(descript…"
      ]
     },
     "metadata": {},
     "output_type": "display_data"
    },
    {
     "data": {
      "application/vnd.jupyter.widget-view+json": {
       "model_id": "c60eaa1d464f4df4a961861cb59e97c6",
       "version_major": 2,
       "version_minor": 0
      },
      "text/plain": [
       "HBox(children=(FloatProgress(value=0.0, description='split=train', max=209.0, style=ProgressStyle(description_…"
      ]
     },
     "metadata": {},
     "output_type": "display_data"
    },
    {
     "data": {
      "application/vnd.jupyter.widget-view+json": {
       "model_id": "f000e602ed4f4fbd9804dd3456d1630a",
       "version_major": 2,
       "version_minor": 0
      },
      "text/plain": [
       "HBox(children=(FloatProgress(value=0.0, description='split=val', max=52.0, style=ProgressStyle(description_wid…"
      ]
     },
     "metadata": {},
     "output_type": "display_data"
    }
   ],
   "source": [
    "config = Namespace( model_state_file='modelf.pth',\n",
    "        hidden_dim=128, \n",
    "        num_channels = 512, \n",
    "        learning_rate= 0.0039, \n",
    "        dropout_p = 0.1, \n",
    "        batch_size=128,\n",
    "        embedding_size =128)\n",
    "conf,train_state,cls = manually_tune(config)"
   ]
  },
  {
   "cell_type": "code",
   "execution_count": 59,
   "metadata": {},
   "outputs": [
    {
     "name": "stdout",
     "output_type": "stream",
     "text": [
      "Test loss: 0.36643906931082404;\n",
      "Test Accuracy: 84.37500000000001\n"
     ]
    }
   ],
   "source": [
    "class_test(cls, train_state)"
   ]
  },
  {
   "cell_type": "code",
   "execution_count": 65,
   "metadata": {},
   "outputs": [
    {
     "data": {
      "image/png": "[encoded data removed]",
      "text/plain": [
       "<Figure size 432x288 with 1 Axes>"
      ]
     },
     "metadata": {
      "needs_background": "light"
     },
     "output_type": "display_data"
    },
    {
     "data": {
      "image/png": "[encoded data removed]",
      "text/plain": [
       "<Figure size 432x288 with 1 Axes>"
      ]
     },
     "metadata": {
      "needs_background": "light"
     },
     "output_type": "display_data"
    }
   ],
   "source": [
    "plot_loss(train_state)\n",
    "plot_acc(train_state)"
   ]
  },
  {
   "cell_type": "code",
   "execution_count": 47,
   "metadata": {},
   "outputs": [
    {
     "data": {
      "application/vnd.jupyter.widget-view+json": {
       "model_id": "dbac24c6718b41de8a8fbc3c1a02804e",
       "version_major": 2,
       "version_minor": 0
      },
      "text/plain": [
       "HBox(children=(FloatProgress(value=0.0, description='training routine', max=25.0, style=ProgressStyle(descript…"
      ]
     },
     "metadata": {},
     "output_type": "display_data"
    },
    {
     "data": {
      "application/vnd.jupyter.widget-view+json": {
       "model_id": "4d4860371dd54a1caaf5498aaaa127ed",
       "version_major": 2,
       "version_minor": 0
      },
      "text/plain": [
       "HBox(children=(FloatProgress(value=0.0, description='split=train', max=209.0, style=ProgressStyle(description_…"
      ]
     },
     "metadata": {},
     "output_type": "display_data"
    },
    {
     "data": {
      "application/vnd.jupyter.widget-view+json": {
       "model_id": "7388c22675f44fca99f9e17a27b96a76",
       "version_major": 2,
       "version_minor": 0
      },
      "text/plain": [
       "HBox(children=(FloatProgress(value=0.0, description='split=val', max=52.0, style=ProgressStyle(description_wid…"
      ]
     },
     "metadata": {},
     "output_type": "display_data"
    }
   ],
   "source": [
    "config1 = Namespace( model_state_file='modelg.pth',\n",
    "        hidden_dim=200, \n",
    "        num_channels = 512, \n",
    "        learning_rate= 0.0039, \n",
    "        dropout_p = 0.1, \n",
    "        batch_size=200,\n",
    "        embedding_size =200)\n",
    "conf1,train_state1,cls1 = manually_tune(config1)"
   ]
  },
  {
   "cell_type": "code",
   "execution_count": 48,
   "metadata": {},
   "outputs": [
    {
     "name": "stdout",
     "output_type": "stream",
     "text": [
      "Test loss: 0.3632028425733248;\n",
      "Test Accuracy: 83.3984375\n"
     ]
    }
   ],
   "source": [
    "class_test(cls1, train_state1)"
   ]
  },
  {
   "cell_type": "code",
   "execution_count": 49,
   "metadata": {},
   "outputs": [
    {
     "data": {
      "application/vnd.jupyter.widget-view+json": {
       "model_id": "ea4d0b6493d94058a7acf90c0ffbd581",
       "version_major": 2,
       "version_minor": 0
      },
      "text/plain": [
       "HBox(children=(FloatProgress(value=0.0, description='training routine', max=25.0, style=ProgressStyle(descript…"
      ]
     },
     "metadata": {},
     "output_type": "display_data"
    },
    {
     "data": {
      "application/vnd.jupyter.widget-view+json": {
       "model_id": "7dec0370b62a4b009ecd39bbc4cb3f1d",
       "version_major": 2,
       "version_minor": 0
      },
      "text/plain": [
       "HBox(children=(FloatProgress(value=0.0, description='split=train', max=209.0, style=ProgressStyle(description_…"
      ]
     },
     "metadata": {},
     "output_type": "display_data"
    },
    {
     "data": {
      "application/vnd.jupyter.widget-view+json": {
       "model_id": "5066481cabee42bdb493ef6a396d333d",
       "version_major": 2,
       "version_minor": 0
      },
      "text/plain": [
       "HBox(children=(FloatProgress(value=0.0, description='split=val', max=52.0, style=ProgressStyle(description_wid…"
      ]
     },
     "metadata": {},
     "output_type": "display_data"
    },
    {
     "data": {
      "application/vnd.jupyter.widget-view+json": {
       "model_id": "9891dd5ffdda45ea81deb6c86ce2fefd",
       "version_major": 2,
       "version_minor": 0
      },
      "text/plain": [
       "HBox(children=(FloatProgress(value=0.0, description='training routine', max=25.0, style=ProgressStyle(descript…"
      ]
     },
     "metadata": {},
     "output_type": "display_data"
    },
    {
     "data": {
      "application/vnd.jupyter.widget-view+json": {
       "model_id": "6f7a86fbd00747c995a8a9fa0743ac46",
       "version_major": 2,
       "version_minor": 0
      },
      "text/plain": [
       "HBox(children=(FloatProgress(value=0.0, description='split=train', max=209.0, style=ProgressStyle(description_…"
      ]
     },
     "metadata": {},
     "output_type": "display_data"
    },
    {
     "data": {
      "application/vnd.jupyter.widget-view+json": {
       "model_id": "f1be4e37e32440ee94f760b939ba39db",
       "version_major": 2,
       "version_minor": 0
      },
      "text/plain": [
       "HBox(children=(FloatProgress(value=0.0, description='split=val', max=52.0, style=ProgressStyle(description_wid…"
      ]
     },
     "metadata": {},
     "output_type": "display_data"
    },
    {
     "data": {
      "application/vnd.jupyter.widget-view+json": {
       "model_id": "cff5a61c9a1647b383c4f2ca43d2c3e8",
       "version_major": 2,
       "version_minor": 0
      },
      "text/plain": [
       "HBox(children=(FloatProgress(value=0.0, description='training routine', max=25.0, style=ProgressStyle(descript…"
      ]
     },
     "metadata": {},
     "output_type": "display_data"
    },
    {
     "data": {
      "application/vnd.jupyter.widget-view+json": {
       "model_id": "503d471edf764e85b632ffe840ba419d",
       "version_major": 2,
       "version_minor": 0
      },
      "text/plain": [
       "HBox(children=(FloatProgress(value=0.0, description='split=train', max=209.0, style=ProgressStyle(description_…"
      ]
     },
     "metadata": {},
     "output_type": "display_data"
    },
    {
     "data": {
      "application/vnd.jupyter.widget-view+json": {
       "model_id": "51d757898cc64ba78f119bcc5c890499",
       "version_major": 2,
       "version_minor": 0
      },
      "text/plain": [
       "HBox(children=(FloatProgress(value=0.0, description='split=val', max=52.0, style=ProgressStyle(description_wid…"
      ]
     },
     "metadata": {},
     "output_type": "display_data"
    },
    {
     "data": {
      "application/vnd.jupyter.widget-view+json": {
       "model_id": "8ef6da8f19af43ffa7e1f7f94d26550d",
       "version_major": 2,
       "version_minor": 0
      },
      "text/plain": [
       "HBox(children=(FloatProgress(value=0.0, description='training routine', max=25.0, style=ProgressStyle(descript…"
      ]
     },
     "metadata": {},
     "output_type": "display_data"
    },
    {
     "data": {
      "application/vnd.jupyter.widget-view+json": {
       "model_id": "22301872b8134a3b9dbdcd7859ef229d",
       "version_major": 2,
       "version_minor": 0
      },
      "text/plain": [
       "HBox(children=(FloatProgress(value=0.0, description='split=train', max=209.0, style=ProgressStyle(description_…"
      ]
     },
     "metadata": {},
     "output_type": "display_data"
    },
    {
     "data": {
      "application/vnd.jupyter.widget-view+json": {
       "model_id": "b4c2b03373ce4f1d84a101a4f1fa32cb",
       "version_major": 2,
       "version_minor": 0
      },
      "text/plain": [
       "HBox(children=(FloatProgress(value=0.0, description='split=val', max=52.0, style=ProgressStyle(description_wid…"
      ]
     },
     "metadata": {},
     "output_type": "display_data"
    },
    {
     "data": {
      "application/vnd.jupyter.widget-view+json": {
       "model_id": "06b4dbe8894c48469151107e4c323565",
       "version_major": 2,
       "version_minor": 0
      },
      "text/plain": [
       "HBox(children=(FloatProgress(value=0.0, description='training routine', max=25.0, style=ProgressStyle(descript…"
      ]
     },
     "metadata": {},
     "output_type": "display_data"
    },
    {
     "data": {
      "application/vnd.jupyter.widget-view+json": {
       "model_id": "f6c0f508b98243adb32a4716d93c6d37",
       "version_major": 2,
       "version_minor": 0
      },
      "text/plain": [
       "HBox(children=(FloatProgress(value=0.0, description='split=train', max=209.0, style=ProgressStyle(description_…"
      ]
     },
     "metadata": {},
     "output_type": "display_data"
    },
    {
     "data": {
      "application/vnd.jupyter.widget-view+json": {
       "model_id": "d30c87e9ef0f46438356b3e0bc90fcbe",
       "version_major": 2,
       "version_minor": 0
      },
      "text/plain": [
       "HBox(children=(FloatProgress(value=0.0, description='split=val', max=52.0, style=ProgressStyle(description_wid…"
      ]
     },
     "metadata": {},
     "output_type": "display_data"
    },
    {
     "data": {
      "application/vnd.jupyter.widget-view+json": {
       "model_id": "dfbe390f89564125b77639eca2d844c2",
       "version_major": 2,
       "version_minor": 0
      },
      "text/plain": [
       "HBox(children=(FloatProgress(value=0.0, description='training routine', max=25.0, style=ProgressStyle(descript…"
      ]
     },
     "metadata": {},
     "output_type": "display_data"
    },
    {
     "data": {
      "application/vnd.jupyter.widget-view+json": {
       "model_id": "2050a743ccdb44a0874e7f2551e8f9d1",
       "version_major": 2,
       "version_minor": 0
      },
      "text/plain": [
       "HBox(children=(FloatProgress(value=0.0, description='split=train', max=209.0, style=ProgressStyle(description_…"
      ]
     },
     "metadata": {},
     "output_type": "display_data"
    },
    {
     "data": {
      "application/vnd.jupyter.widget-view+json": {
       "model_id": "0183e338c98f46e18665e45e2e34f4a7",
       "version_major": 2,
       "version_minor": 0
      },
      "text/plain": [
       "HBox(children=(FloatProgress(value=0.0, description='split=val', max=52.0, style=ProgressStyle(description_wid…"
      ]
     },
     "metadata": {},
     "output_type": "display_data"
    },
    {
     "data": {
      "application/vnd.jupyter.widget-view+json": {
       "model_id": "2978e803e8c84a6aba82443cd20bbf77",
       "version_major": 2,
       "version_minor": 0
      },
      "text/plain": [
       "HBox(children=(FloatProgress(value=0.0, description='training routine', max=25.0, style=ProgressStyle(descript…"
      ]
     },
     "metadata": {},
     "output_type": "display_data"
    },
    {
     "data": {
      "application/vnd.jupyter.widget-view+json": {
       "model_id": "65c5b84d11e1437ba26d74b66b98a37f",
       "version_major": 2,
       "version_minor": 0
      },
      "text/plain": [
       "HBox(children=(FloatProgress(value=0.0, description='split=train', max=209.0, style=ProgressStyle(description_…"
      ]
     },
     "metadata": {},
     "output_type": "display_data"
    },
    {
     "data": {
      "application/vnd.jupyter.widget-view+json": {
       "model_id": "32576fab6d984548acc20a7cc075bc32",
       "version_major": 2,
       "version_minor": 0
      },
      "text/plain": [
       "HBox(children=(FloatProgress(value=0.0, description='split=val', max=52.0, style=ProgressStyle(description_wid…"
      ]
     },
     "metadata": {},
     "output_type": "display_data"
    },
    {
     "data": {
      "application/vnd.jupyter.widget-view+json": {
       "model_id": "91216b27283d49bc8eaba6eacf364c37",
       "version_major": 2,
       "version_minor": 0
      },
      "text/plain": [
       "HBox(children=(FloatProgress(value=0.0, description='training routine', max=25.0, style=ProgressStyle(descript…"
      ]
     },
     "metadata": {},
     "output_type": "display_data"
    },
    {
     "data": {
      "application/vnd.jupyter.widget-view+json": {
       "model_id": "7313cd5c1aa94b6f9a3100b258cf20dd",
       "version_major": 2,
       "version_minor": 0
      },
      "text/plain": [
       "HBox(children=(FloatProgress(value=0.0, description='split=train', max=209.0, style=ProgressStyle(description_…"
      ]
     },
     "metadata": {},
     "output_type": "display_data"
    },
    {
     "data": {
      "application/vnd.jupyter.widget-view+json": {
       "model_id": "2f78d7f2849c4c2885261132ef9c04ad",
       "version_major": 2,
       "version_minor": 0
      },
      "text/plain": [
       "HBox(children=(FloatProgress(value=0.0, description='split=val', max=52.0, style=ProgressStyle(description_wid…"
      ]
     },
     "metadata": {},
     "output_type": "display_data"
    },
    {
     "data": {
      "application/vnd.jupyter.widget-view+json": {
       "model_id": "7a79980d075d4ef690833642803afdfa",
       "version_major": 2,
       "version_minor": 0
      },
      "text/plain": [
       "HBox(children=(FloatProgress(value=0.0, description='training routine', max=25.0, style=ProgressStyle(descript…"
      ]
     },
     "metadata": {},
     "output_type": "display_data"
    },
    {
     "data": {
      "application/vnd.jupyter.widget-view+json": {
       "model_id": "0c142b0c1f114f2d9d19f9c148a421df",
       "version_major": 2,
       "version_minor": 0
      },
      "text/plain": [
       "HBox(children=(FloatProgress(value=0.0, description='split=train', max=209.0, style=ProgressStyle(description_…"
      ]
     },
     "metadata": {},
     "output_type": "display_data"
    },
    {
     "data": {
      "application/vnd.jupyter.widget-view+json": {
       "model_id": "9c3af9e84f2a486eb09de138e3f167fb",
       "version_major": 2,
       "version_minor": 0
      },
      "text/plain": [
       "HBox(children=(FloatProgress(value=0.0, description='split=val', max=52.0, style=ProgressStyle(description_wid…"
      ]
     },
     "metadata": {},
     "output_type": "display_data"
    },
    {
     "data": {
      "application/vnd.jupyter.widget-view+json": {
       "model_id": "ba81990c0b964a7a9bf2e34d7a9a1b7e",
       "version_major": 2,
       "version_minor": 0
      },
      "text/plain": [
       "HBox(children=(FloatProgress(value=0.0, description='training routine', max=25.0, style=ProgressStyle(descript…"
      ]
     },
     "metadata": {},
     "output_type": "display_data"
    },
    {
     "data": {
      "application/vnd.jupyter.widget-view+json": {
       "model_id": "88bd08d65352405a91cc26a2314726c6",
       "version_major": 2,
       "version_minor": 0
      },
      "text/plain": [
       "HBox(children=(FloatProgress(value=0.0, description='split=train', max=209.0, style=ProgressStyle(description_…"
      ]
     },
     "metadata": {},
     "output_type": "display_data"
    },
    {
     "data": {
      "application/vnd.jupyter.widget-view+json": {
       "model_id": "7bdefddc998b477d869259666d588a91",
       "version_major": 2,
       "version_minor": 0
      },
      "text/plain": [
       "HBox(children=(FloatProgress(value=0.0, description='split=val', max=52.0, style=ProgressStyle(description_wid…"
      ]
     },
     "metadata": {},
     "output_type": "display_data"
    },
    {
     "data": {
      "application/vnd.jupyter.widget-view+json": {
       "model_id": "083851f6b7474a83886a96680a67e32c",
       "version_major": 2,
       "version_minor": 0
      },
      "text/plain": [
       "HBox(children=(FloatProgress(value=0.0, description='training routine', max=25.0, style=ProgressStyle(descript…"
      ]
     },
     "metadata": {},
     "output_type": "display_data"
    },
    {
     "data": {
      "application/vnd.jupyter.widget-view+json": {
       "model_id": "c369cc2741f64946b55d55bceb55c4de",
       "version_major": 2,
       "version_minor": 0
      },
      "text/plain": [
       "HBox(children=(FloatProgress(value=0.0, description='split=train', max=209.0, style=ProgressStyle(description_…"
      ]
     },
     "metadata": {},
     "output_type": "display_data"
    },
    {
     "data": {
      "application/vnd.jupyter.widget-view+json": {
       "model_id": "17d15a0c899e41dabac0ffd12d941081",
       "version_major": 2,
       "version_minor": 0
      },
      "text/plain": [
       "HBox(children=(FloatProgress(value=0.0, description='split=val', max=52.0, style=ProgressStyle(description_wid…"
      ]
     },
     "metadata": {},
     "output_type": "display_data"
    },
    {
     "data": {
      "application/vnd.jupyter.widget-view+json": {
       "model_id": "a824488cbf3940deb8cdbc25e6e28a05",
       "version_major": 2,
       "version_minor": 0
      },
      "text/plain": [
       "HBox(children=(FloatProgress(value=0.0, description='training routine', max=25.0, style=ProgressStyle(descript…"
      ]
     },
     "metadata": {},
     "output_type": "display_data"
    },
    {
     "data": {
      "application/vnd.jupyter.widget-view+json": {
       "model_id": "9fd830cd10594183a0bed528c9b95694",
       "version_major": 2,
       "version_minor": 0
      },
      "text/plain": [
       "HBox(children=(FloatProgress(value=0.0, description='split=train', max=209.0, style=ProgressStyle(description_…"
      ]
     },
     "metadata": {},
     "output_type": "display_data"
    },
    {
     "data": {
      "application/vnd.jupyter.widget-view+json": {
       "model_id": "d480cf396922462fb492dff09938cf3f",
       "version_major": 2,
       "version_minor": 0
      },
      "text/plain": [
       "HBox(children=(FloatProgress(value=0.0, description='split=val', max=52.0, style=ProgressStyle(description_wid…"
      ]
     },
     "metadata": {},
     "output_type": "display_data"
    },
    {
     "data": {
      "application/vnd.jupyter.widget-view+json": {
       "model_id": "06b7198063f244c09d67032a0bdefb90",
       "version_major": 2,
       "version_minor": 0
      },
      "text/plain": [
       "HBox(children=(FloatProgress(value=0.0, description='training routine', max=25.0, style=ProgressStyle(descript…"
      ]
     },
     "metadata": {},
     "output_type": "display_data"
    },
    {
     "data": {
      "application/vnd.jupyter.widget-view+json": {
       "model_id": "8764f91ae5f04501a9f56fe390a43b75",
       "version_major": 2,
       "version_minor": 0
      },
      "text/plain": [
       "HBox(children=(FloatProgress(value=0.0, description='split=train', max=209.0, style=ProgressStyle(description_…"
      ]
     },
     "metadata": {},
     "output_type": "display_data"
    },
    {
     "data": {
      "application/vnd.jupyter.widget-view+json": {
       "model_id": "7339616a60d34fdf848b94442bbf9566",
       "version_major": 2,
       "version_minor": 0
      },
      "text/plain": [
       "HBox(children=(FloatProgress(value=0.0, description='split=val', max=52.0, style=ProgressStyle(description_wid…"
      ]
     },
     "metadata": {},
     "output_type": "display_data"
    },
    {
     "data": {
      "application/vnd.jupyter.widget-view+json": {
       "model_id": "c005642874654b54bb72f65ceaab72a5",
       "version_major": 2,
       "version_minor": 0
      },
      "text/plain": [
       "HBox(children=(FloatProgress(value=0.0, description='training routine', max=25.0, style=ProgressStyle(descript…"
      ]
     },
     "metadata": {},
     "output_type": "display_data"
    },
    {
     "data": {
      "application/vnd.jupyter.widget-view+json": {
       "model_id": "17ac5e95d005409cbf07437102b0ed38",
       "version_major": 2,
       "version_minor": 0
      },
      "text/plain": [
       "HBox(children=(FloatProgress(value=0.0, description='split=train', max=209.0, style=ProgressStyle(description_…"
      ]
     },
     "metadata": {},
     "output_type": "display_data"
    },
    {
     "data": {
      "application/vnd.jupyter.widget-view+json": {
       "model_id": "9d30518047d44be7a674f7b583e562bb",
       "version_major": 2,
       "version_minor": 0
      },
      "text/plain": [
       "HBox(children=(FloatProgress(value=0.0, description='split=val', max=52.0, style=ProgressStyle(description_wid…"
      ]
     },
     "metadata": {},
     "output_type": "display_data"
    },
    {
     "data": {
      "application/vnd.jupyter.widget-view+json": {
       "model_id": "cf65d9661cbd4bdea25cfa2ea7ac84f6",
       "version_major": 2,
       "version_minor": 0
      },
      "text/plain": [
       "HBox(children=(FloatProgress(value=0.0, description='training routine', max=25.0, style=ProgressStyle(descript…"
      ]
     },
     "metadata": {},
     "output_type": "display_data"
    },
    {
     "data": {
      "application/vnd.jupyter.widget-view+json": {
       "model_id": "a13288fb199044b4b152c2464758165c",
       "version_major": 2,
       "version_minor": 0
      },
      "text/plain": [
       "HBox(children=(FloatProgress(value=0.0, description='split=train', max=209.0, style=ProgressStyle(description_…"
      ]
     },
     "metadata": {},
     "output_type": "display_data"
    },
    {
     "data": {
      "application/vnd.jupyter.widget-view+json": {
       "model_id": "28d2352246574115b230bdd5c0c4760f",
       "version_major": 2,
       "version_minor": 0
      },
      "text/plain": [
       "HBox(children=(FloatProgress(value=0.0, description='split=val', max=52.0, style=ProgressStyle(description_wid…"
      ]
     },
     "metadata": {},
     "output_type": "display_data"
    },
    {
     "data": {
      "application/vnd.jupyter.widget-view+json": {
       "model_id": "6ec826c2b6a1432898c2680166a79972",
       "version_major": 2,
       "version_minor": 0
      },
      "text/plain": [
       "HBox(children=(FloatProgress(value=0.0, description='training routine', max=25.0, style=ProgressStyle(descript…"
      ]
     },
     "metadata": {},
     "output_type": "display_data"
    },
    {
     "data": {
      "application/vnd.jupyter.widget-view+json": {
       "model_id": "9303e95b4e8849b295385ef1da299294",
       "version_major": 2,
       "version_minor": 0
      },
      "text/plain": [
       "HBox(children=(FloatProgress(value=0.0, description='split=train', max=209.0, style=ProgressStyle(description_…"
      ]
     },
     "metadata": {},
     "output_type": "display_data"
    },
    {
     "data": {
      "application/vnd.jupyter.widget-view+json": {
       "model_id": "7eaa8ecdedb64247826d699e42d1fd66",
       "version_major": 2,
       "version_minor": 0
      },
      "text/plain": [
       "HBox(children=(FloatProgress(value=0.0, description='split=val', max=52.0, style=ProgressStyle(description_wid…"
      ]
     },
     "metadata": {},
     "output_type": "display_data"
    },
    {
     "data": {
      "application/vnd.jupyter.widget-view+json": {
       "model_id": "792b318133b54b3fb2db1c5af7f55b92",
       "version_major": 2,
       "version_minor": 0
      },
      "text/plain": [
       "HBox(children=(FloatProgress(value=0.0, description='training routine', max=25.0, style=ProgressStyle(descript…"
      ]
     },
     "metadata": {},
     "output_type": "display_data"
    },
    {
     "data": {
      "application/vnd.jupyter.widget-view+json": {
       "model_id": "0e15404dfd7f4a6897f5d88308e09ff2",
       "version_major": 2,
       "version_minor": 0
      },
      "text/plain": [
       "HBox(children=(FloatProgress(value=0.0, description='split=train', max=209.0, style=ProgressStyle(description_…"
      ]
     },
     "metadata": {},
     "output_type": "display_data"
    },
    {
     "data": {
      "application/vnd.jupyter.widget-view+json": {
       "model_id": "de9a9fec593245089c7b1f76713b5943",
       "version_major": 2,
       "version_minor": 0
      },
      "text/plain": [
       "HBox(children=(FloatProgress(value=0.0, description='split=val', max=52.0, style=ProgressStyle(description_wid…"
      ]
     },
     "metadata": {},
     "output_type": "display_data"
    },
    {
     "data": {
      "application/vnd.jupyter.widget-view+json": {
       "model_id": "fe382d6b98774e25ac72f1adf5b721d1",
       "version_major": 2,
       "version_minor": 0
      },
      "text/plain": [
       "HBox(children=(FloatProgress(value=0.0, description='training routine', max=25.0, style=ProgressStyle(descript…"
      ]
     },
     "metadata": {},
     "output_type": "display_data"
    },
    {
     "data": {
      "application/vnd.jupyter.widget-view+json": {
       "model_id": "d33f87d61ec949f8ace61afc8cdee86a",
       "version_major": 2,
       "version_minor": 0
      },
      "text/plain": [
       "HBox(children=(FloatProgress(value=0.0, description='split=train', max=209.0, style=ProgressStyle(description_…"
      ]
     },
     "metadata": {},
     "output_type": "display_data"
    },
    {
     "data": {
      "application/vnd.jupyter.widget-view+json": {
       "model_id": "87464eabac2a4d4cb09d369e6cd8dcec",
       "version_major": 2,
       "version_minor": 0
      },
      "text/plain": [
       "HBox(children=(FloatProgress(value=0.0, description='split=val', max=52.0, style=ProgressStyle(description_wid…"
      ]
     },
     "metadata": {},
     "output_type": "display_data"
    },
    {
     "data": {
      "application/vnd.jupyter.widget-view+json": {
       "model_id": "07ae092085d94ec2a5ad9bc2a8a7b300",
       "version_major": 2,
       "version_minor": 0
      },
      "text/plain": [
       "HBox(children=(FloatProgress(value=0.0, description='training routine', max=25.0, style=ProgressStyle(descript…"
      ]
     },
     "metadata": {},
     "output_type": "display_data"
    },
    {
     "data": {
      "application/vnd.jupyter.widget-view+json": {
       "model_id": "76a6304b6d374a64a855c9153701b001",
       "version_major": 2,
       "version_minor": 0
      },
      "text/plain": [
       "HBox(children=(FloatProgress(value=0.0, description='split=train', max=209.0, style=ProgressStyle(description_…"
      ]
     },
     "metadata": {},
     "output_type": "display_data"
    },
    {
     "data": {
      "application/vnd.jupyter.widget-view+json": {
       "model_id": "30e18118327e4b0d95cf56f299a704e0",
       "version_major": 2,
       "version_minor": 0
      },
      "text/plain": [
       "HBox(children=(FloatProgress(value=0.0, description='split=val', max=52.0, style=ProgressStyle(description_wid…"
      ]
     },
     "metadata": {},
     "output_type": "display_data"
    },
    {
     "data": {
      "application/vnd.jupyter.widget-view+json": {
       "model_id": "e7d1bba71ebf4fa6a6902a1f721c5e63",
       "version_major": 2,
       "version_minor": 0
      },
      "text/plain": [
       "HBox(children=(FloatProgress(value=0.0, description='training routine', max=25.0, style=ProgressStyle(descript…"
      ]
     },
     "metadata": {},
     "output_type": "display_data"
    },
    {
     "data": {
      "application/vnd.jupyter.widget-view+json": {
       "model_id": "19a54cb98be148e8899bf20f48ca9ee4",
       "version_major": 2,
       "version_minor": 0
      },
      "text/plain": [
       "HBox(children=(FloatProgress(value=0.0, description='split=train', max=209.0, style=ProgressStyle(description_…"
      ]
     },
     "metadata": {},
     "output_type": "display_data"
    },
    {
     "data": {
      "application/vnd.jupyter.widget-view+json": {
       "model_id": "84c48ec5f75d4eb29e64e01b93337f9d",
       "version_major": 2,
       "version_minor": 0
      },
      "text/plain": [
       "HBox(children=(FloatProgress(value=0.0, description='split=val', max=52.0, style=ProgressStyle(description_wid…"
      ]
     },
     "metadata": {},
     "output_type": "display_data"
    }
   ],
   "source": [
    "ls_g2 = []\n",
    "for i in range(20):\n",
    "    config = Namespace( model_state_file='model' + str(i) + '.pth',\n",
    "        hidden_dim=np.random.randint(100, 301), \n",
    "        num_channels=np.random.randint(400, 801), \n",
    "        learning_rate= np.random.randint(1,1000)/10000, \n",
    "        dropout_p=np.random.randint(1,4)/10, \n",
    "        batch_size=np.random.randint(100, 301),\n",
    "        embedding_size = np.random.randint(100, 301))\n",
    "    conf,train_state,cls = manually_tune(config)\n",
    "    ls_g2.append((conf,train_state,cls))\n",
    "ls_g2.sort(reverse = True, key = lambda x:np.mean(x[1]['val_acc']))"
   ]
  },
  {
   "cell_type": "code",
   "execution_count": 57,
   "metadata": {},
   "outputs": [
    {
     "name": "stdout",
     "output_type": "stream",
     "text": [
      "[177, 222, 107, 211, 239, 296, 289, 110, 279, 108]\n",
      "[706, 765, 603, 491, 789, 623, 793, 586, 464, 472]\n",
      "[0.0077, 0.0379, 0.0322, 0.0436, 0.0747, 0.0994, 0.0965, 0.0776, 0.0529, 0.0574]\n",
      "[0.1, 0.1, 0.3, 0.2, 0.3, 0.1, 0.2, 0.3, 0.1, 0.3]\n",
      "[145, 191, 261, 295, 269, 234, 235, 295, 233, 191]\n",
      "[279, 255, 140, 248, 248, 296, 195, 287, 276, 237]\n",
      "['model7.pth', 'model13.pth', 'model15.pth', 'model0.pth', 'model18.pth', 'model2.pth', 'model16.pth', 'model17.pth', 'model11.pth', 'model1.pth']\n"
     ]
    }
   ],
   "source": [
    "batch = []\n",
    "drop = []\n",
    "learning = []\n",
    "channels = []\n",
    "hdim = []\n",
    "emb = []\n",
    "mph = []\n",
    "for i in ls_g2[0:10]:\n",
    "    learning.append(i[0].learning_rate)\n",
    "    batch.append(i[0].batch_size)\n",
    "    channels.append(i[0].num_channels)\n",
    "    drop.append(i[0].dropout_p)\n",
    "    hdim.append(i[0].hidden_dim)\n",
    "    emb.append(i[0].embedding_size)\n",
    "    mph.append(i[0].model_state_file)\n",
    "print(hdim)\n",
    "print(channels)\n",
    "print(learning)\n",
    "print(drop)\n",
    "print(batch)\n",
    "print(emb)\n",
    "print(mph)"
   ]
  },
  {
   "cell_type": "code",
   "execution_count": 58,
   "metadata": {},
   "outputs": [
    {
     "name": "stdout",
     "output_type": "stream",
     "text": [
      "Test loss: 0.39067229504386586;\n",
      "Test Accuracy: 83.07291666666669\n",
      "Test loss: 0.42268443480134005;\n",
      "Test Accuracy: 81.93359375\n",
      "Test loss: 0.6941152364015579;\n",
      "Test Accuracy: 48.63281250000001\n",
      "Test loss: 0.6940125897526743;\n",
      "Test Accuracy: 48.76302083333333\n",
      "Test loss: 0.6939412405093511;\n",
      "Test Accuracy: 48.86067708333334\n",
      "Test loss: 0.694464792807897;\n",
      "Test Accuracy: 48.4375\n",
      "Test loss: 0.6942818860212961;\n",
      "Test Accuracy: 48.63281250000001\n",
      "Test loss: 0.6941864937543868;\n",
      "Test Accuracy: 48.89322916666667\n",
      "Test loss: 0.6940334116419158;\n",
      "Test Accuracy: 48.274739583333336\n",
      "Test loss: 0.6940964286526043;\n",
      "Test Accuracy: 48.86067708333333\n"
     ]
    }
   ],
   "source": [
    "for i in range(10):\n",
    "    class_test(ls_g2[i][2], ls_g2[i][1])"
   ]
  },
  {
   "cell_type": "code",
   "execution_count": 52,
   "metadata": {},
   "outputs": [
    {
     "data": {
      "application/vnd.jupyter.widget-view+json": {
       "model_id": "4f499df349c744a7b6d3d3e8684d8ffb",
       "version_major": 2,
       "version_minor": 0
      },
      "text/plain": [
       "HBox(children=(FloatProgress(value=0.0, description='training routine', max=25.0, style=ProgressStyle(descript…"
      ]
     },
     "metadata": {},
     "output_type": "display_data"
    },
    {
     "data": {
      "application/vnd.jupyter.widget-view+json": {
       "model_id": "045a6f812edf42589d2a672fb79a9349",
       "version_major": 2,
       "version_minor": 0
      },
      "text/plain": [
       "HBox(children=(FloatProgress(value=0.0, description='split=train', max=209.0, style=ProgressStyle(description_…"
      ]
     },
     "metadata": {},
     "output_type": "display_data"
    },
    {
     "data": {
      "application/vnd.jupyter.widget-view+json": {
       "model_id": "ea3aaac8fd8f4272966f89cdc025c129",
       "version_major": 2,
       "version_minor": 0
      },
      "text/plain": [
       "HBox(children=(FloatProgress(value=0.0, description='split=val', max=52.0, style=ProgressStyle(description_wid…"
      ]
     },
     "metadata": {},
     "output_type": "display_data"
    },
    {
     "data": {
      "application/vnd.jupyter.widget-view+json": {
       "model_id": "89d03074bc5e470f86b0079a82cab6f5",
       "version_major": 2,
       "version_minor": 0
      },
      "text/plain": [
       "HBox(children=(FloatProgress(value=0.0, description='training routine', max=25.0, style=ProgressStyle(descript…"
      ]
     },
     "metadata": {},
     "output_type": "display_data"
    },
    {
     "data": {
      "application/vnd.jupyter.widget-view+json": {
       "model_id": "bb47fd59460b47cf8d58999f13fc120e",
       "version_major": 2,
       "version_minor": 0
      },
      "text/plain": [
       "HBox(children=(FloatProgress(value=0.0, description='split=train', max=209.0, style=ProgressStyle(description_…"
      ]
     },
     "metadata": {},
     "output_type": "display_data"
    },
    {
     "data": {
      "application/vnd.jupyter.widget-view+json": {
       "model_id": "7334249e8feb4873b8d3f3cb3be05306",
       "version_major": 2,
       "version_minor": 0
      },
      "text/plain": [
       "HBox(children=(FloatProgress(value=0.0, description='split=val', max=52.0, style=ProgressStyle(description_wid…"
      ]
     },
     "metadata": {},
     "output_type": "display_data"
    },
    {
     "data": {
      "application/vnd.jupyter.widget-view+json": {
       "model_id": "470b2bb2ef9843789b5c48179094288b",
       "version_major": 2,
       "version_minor": 0
      },
      "text/plain": [
       "HBox(children=(FloatProgress(value=0.0, description='training routine', max=25.0, style=ProgressStyle(descript…"
      ]
     },
     "metadata": {},
     "output_type": "display_data"
    },
    {
     "data": {
      "application/vnd.jupyter.widget-view+json": {
       "model_id": "f4e1772112fe45ebb1cffea752ed0fea",
       "version_major": 2,
       "version_minor": 0
      },
      "text/plain": [
       "HBox(children=(FloatProgress(value=0.0, description='split=train', max=209.0, style=ProgressStyle(description_…"
      ]
     },
     "metadata": {},
     "output_type": "display_data"
    },
    {
     "data": {
      "application/vnd.jupyter.widget-view+json": {
       "model_id": "3498c9ac9a2747c28bc912391c09d4ed",
       "version_major": 2,
       "version_minor": 0
      },
      "text/plain": [
       "HBox(children=(FloatProgress(value=0.0, description='split=val', max=52.0, style=ProgressStyle(description_wid…"
      ]
     },
     "metadata": {},
     "output_type": "display_data"
    },
    {
     "data": {
      "application/vnd.jupyter.widget-view+json": {
       "model_id": "817d0e62f13843c9a41510fa8a7006d9",
       "version_major": 2,
       "version_minor": 0
      },
      "text/plain": [
       "HBox(children=(FloatProgress(value=0.0, description='training routine', max=25.0, style=ProgressStyle(descript…"
      ]
     },
     "metadata": {},
     "output_type": "display_data"
    },
    {
     "data": {
      "application/vnd.jupyter.widget-view+json": {
       "model_id": "7c03b498a0ca4e26bb598600d6c2f4e6",
       "version_major": 2,
       "version_minor": 0
      },
      "text/plain": [
       "HBox(children=(FloatProgress(value=0.0, description='split=train', max=209.0, style=ProgressStyle(description_…"
      ]
     },
     "metadata": {},
     "output_type": "display_data"
    },
    {
     "data": {
      "application/vnd.jupyter.widget-view+json": {
       "model_id": "efdcfcc69f774f7db18f2ded9c521918",
       "version_major": 2,
       "version_minor": 0
      },
      "text/plain": [
       "HBox(children=(FloatProgress(value=0.0, description='split=val', max=52.0, style=ProgressStyle(description_wid…"
      ]
     },
     "metadata": {},
     "output_type": "display_data"
    },
    {
     "data": {
      "application/vnd.jupyter.widget-view+json": {
       "model_id": "d405b3dd7fe5465f81e87578f81cd6ff",
       "version_major": 2,
       "version_minor": 0
      },
      "text/plain": [
       "HBox(children=(FloatProgress(value=0.0, description='training routine', max=25.0, style=ProgressStyle(descript…"
      ]
     },
     "metadata": {},
     "output_type": "display_data"
    },
    {
     "data": {
      "application/vnd.jupyter.widget-view+json": {
       "model_id": "44151d0d690945efaabd9c0d6bcab913",
       "version_major": 2,
       "version_minor": 0
      },
      "text/plain": [
       "HBox(children=(FloatProgress(value=0.0, description='split=train', max=209.0, style=ProgressStyle(description_…"
      ]
     },
     "metadata": {},
     "output_type": "display_data"
    },
    {
     "data": {
      "application/vnd.jupyter.widget-view+json": {
       "model_id": "7fdaac59538b4d3c96e6fd402ec9c476",
       "version_major": 2,
       "version_minor": 0
      },
      "text/plain": [
       "HBox(children=(FloatProgress(value=0.0, description='split=val', max=52.0, style=ProgressStyle(description_wid…"
      ]
     },
     "metadata": {},
     "output_type": "display_data"
    },
    {
     "data": {
      "application/vnd.jupyter.widget-view+json": {
       "model_id": "df32ea882cab48bb9132f249ac7901d0",
       "version_major": 2,
       "version_minor": 0
      },
      "text/plain": [
       "HBox(children=(FloatProgress(value=0.0, description='training routine', max=25.0, style=ProgressStyle(descript…"
      ]
     },
     "metadata": {},
     "output_type": "display_data"
    },
    {
     "data": {
      "application/vnd.jupyter.widget-view+json": {
       "model_id": "125c791e0c414220b9b679fd2c818f6e",
       "version_major": 2,
       "version_minor": 0
      },
      "text/plain": [
       "HBox(children=(FloatProgress(value=0.0, description='split=train', max=209.0, style=ProgressStyle(description_…"
      ]
     },
     "metadata": {},
     "output_type": "display_data"
    },
    {
     "data": {
      "application/vnd.jupyter.widget-view+json": {
       "model_id": "41e4ff8709484468953fb05c5ba35404",
       "version_major": 2,
       "version_minor": 0
      },
      "text/plain": [
       "HBox(children=(FloatProgress(value=0.0, description='split=val', max=52.0, style=ProgressStyle(description_wid…"
      ]
     },
     "metadata": {},
     "output_type": "display_data"
    },
    {
     "data": {
      "application/vnd.jupyter.widget-view+json": {
       "model_id": "d16924b3217b469fa2aadfeff478c850",
       "version_major": 2,
       "version_minor": 0
      },
      "text/plain": [
       "HBox(children=(FloatProgress(value=0.0, description='training routine', max=25.0, style=ProgressStyle(descript…"
      ]
     },
     "metadata": {},
     "output_type": "display_data"
    },
    {
     "data": {
      "application/vnd.jupyter.widget-view+json": {
       "model_id": "c24cba26105e4743a96703d9f67318b1",
       "version_major": 2,
       "version_minor": 0
      },
      "text/plain": [
       "HBox(children=(FloatProgress(value=0.0, description='split=train', max=209.0, style=ProgressStyle(description_…"
      ]
     },
     "metadata": {},
     "output_type": "display_data"
    },
    {
     "data": {
      "application/vnd.jupyter.widget-view+json": {
       "model_id": "847dd72658134227bdf3fe4c9c23870d",
       "version_major": 2,
       "version_minor": 0
      },
      "text/plain": [
       "HBox(children=(FloatProgress(value=0.0, description='split=val', max=52.0, style=ProgressStyle(description_wid…"
      ]
     },
     "metadata": {},
     "output_type": "display_data"
    },
    {
     "data": {
      "application/vnd.jupyter.widget-view+json": {
       "model_id": "8c4e26f75bbb4c1099516a6b5d625261",
       "version_major": 2,
       "version_minor": 0
      },
      "text/plain": [
       "HBox(children=(FloatProgress(value=0.0, description='training routine', max=25.0, style=ProgressStyle(descript…"
      ]
     },
     "metadata": {},
     "output_type": "display_data"
    },
    {
     "data": {
      "application/vnd.jupyter.widget-view+json": {
       "model_id": "23dff7de428e4c11a87a7981368da7cb",
       "version_major": 2,
       "version_minor": 0
      },
      "text/plain": [
       "HBox(children=(FloatProgress(value=0.0, description='split=train', max=209.0, style=ProgressStyle(description_…"
      ]
     },
     "metadata": {},
     "output_type": "display_data"
    },
    {
     "data": {
      "application/vnd.jupyter.widget-view+json": {
       "model_id": "8954baf19f494dcfb27380db1530c674",
       "version_major": 2,
       "version_minor": 0
      },
      "text/plain": [
       "HBox(children=(FloatProgress(value=0.0, description='split=val', max=52.0, style=ProgressStyle(description_wid…"
      ]
     },
     "metadata": {},
     "output_type": "display_data"
    },
    {
     "data": {
      "application/vnd.jupyter.widget-view+json": {
       "model_id": "6a3f2d3868d04d6f81011563075f86ac",
       "version_major": 2,
       "version_minor": 0
      },
      "text/plain": [
       "HBox(children=(FloatProgress(value=0.0, description='training routine', max=25.0, style=ProgressStyle(descript…"
      ]
     },
     "metadata": {},
     "output_type": "display_data"
    },
    {
     "data": {
      "application/vnd.jupyter.widget-view+json": {
       "model_id": "73bd9bf4a8b045b4837f0e45433ceec7",
       "version_major": 2,
       "version_minor": 0
      },
      "text/plain": [
       "HBox(children=(FloatProgress(value=0.0, description='split=train', max=209.0, style=ProgressStyle(description_…"
      ]
     },
     "metadata": {},
     "output_type": "display_data"
    },
    {
     "data": {
      "application/vnd.jupyter.widget-view+json": {
       "model_id": "c844ef97dc344a0eacf2a876ca7f25d7",
       "version_major": 2,
       "version_minor": 0
      },
      "text/plain": [
       "HBox(children=(FloatProgress(value=0.0, description='split=val', max=52.0, style=ProgressStyle(description_wid…"
      ]
     },
     "metadata": {},
     "output_type": "display_data"
    },
    {
     "data": {
      "application/vnd.jupyter.widget-view+json": {
       "model_id": "18c928282808403a86352fdbce7b3b5a",
       "version_major": 2,
       "version_minor": 0
      },
      "text/plain": [
       "HBox(children=(FloatProgress(value=0.0, description='training routine', max=25.0, style=ProgressStyle(descript…"
      ]
     },
     "metadata": {},
     "output_type": "display_data"
    },
    {
     "data": {
      "application/vnd.jupyter.widget-view+json": {
       "model_id": "f349f9027a5348f5b5034e5378dfbd8c",
       "version_major": 2,
       "version_minor": 0
      },
      "text/plain": [
       "HBox(children=(FloatProgress(value=0.0, description='split=train', max=209.0, style=ProgressStyle(description_…"
      ]
     },
     "metadata": {},
     "output_type": "display_data"
    },
    {
     "data": {
      "application/vnd.jupyter.widget-view+json": {
       "model_id": "856f4061350740a5ab452abdfd799b8e",
       "version_major": 2,
       "version_minor": 0
      },
      "text/plain": [
       "HBox(children=(FloatProgress(value=0.0, description='split=val', max=52.0, style=ProgressStyle(description_wid…"
      ]
     },
     "metadata": {},
     "output_type": "display_data"
    }
   ],
   "source": [
    "ls_g3 = []\n",
    "for i in range(10):\n",
    "    config = Namespace( model_state_file='model' + str(i+20) + '.pth',\n",
    "        hidden_dim=np.random.randint(50, 250), \n",
    "        num_channels=512, \n",
    "        learning_rate= 0.0039, \n",
    "        dropout_p=0.1, \n",
    "        batch_size=np.random.randint(50, 250),\n",
    "        embedding_size = np.random.randint(50, 250))\n",
    "    conf,train_state,cls = manually_tune(config)\n",
    "    ls_g3.append((conf,train_state,cls))\n",
    "ls_g3.sort(reverse = True, key = lambda x:np.mean(x[1]['val_acc']))"
   ]
  },
  {
   "cell_type": "code",
   "execution_count": 53,
   "metadata": {},
   "outputs": [
    {
     "name": "stdout",
     "output_type": "stream",
     "text": [
      "Test loss: 0.36793509249885886;\n",
      "Test Accuracy: 84.21223958333331\n",
      "Test loss: 0.36864204580585164;\n",
      "Test Accuracy: 83.72395833333336\n",
      "Test loss: 0.36439028630654013;\n",
      "Test Accuracy: 83.59375\n",
      "Test loss: 0.38443634286522865;\n",
      "Test Accuracy: 83.07291666666666\n",
      "Test loss: 0.3776567863921324;\n",
      "Test Accuracy: 83.52864583333331\n",
      "Test loss: 0.38810342053572333;\n",
      "Test Accuracy: 83.36588541666667\n",
      "Test loss: 0.37137310331066453;\n",
      "Test Accuracy: 83.98437500000001\n",
      "Test loss: 0.3797226920723915;\n",
      "Test Accuracy: 82.74739583333331\n",
      "Test loss: 0.36804220328728354;\n",
      "Test Accuracy: 83.85416666666666\n",
      "Test loss: 0.3682546379665534;\n",
      "Test Accuracy: 83.36588541666669\n"
     ]
    }
   ],
   "source": [
    "for i in range(10):\n",
    "    class_test(ls_g3[i][2], ls_g3[i][1])"
   ]
  },
  {
   "cell_type": "code",
   "execution_count": 54,
   "metadata": {},
   "outputs": [
    {
     "name": "stdout",
     "output_type": "stream",
     "text": [
      "[169, 172, 131, 131, 172, 128, 155, 133, 55, 81]\n",
      "[512, 512, 512, 512, 512, 512, 512, 512, 512, 512]\n",
      "[0.0039, 0.0039, 0.0039, 0.0039, 0.0039, 0.0039, 0.0039, 0.0039, 0.0039, 0.0039]\n",
      "[0.1, 0.1, 0.1, 0.1, 0.1, 0.1, 0.1, 0.1, 0.1, 0.1]\n",
      "[57, 229, 239, 240, 50, 73, 120, 57, 84, 100]\n",
      "[237, 157, 141, 115, 87, 187, 227, 54, 195, 62]\n",
      "['model29.pth', 'model26.pth', 'model24.pth', 'model27.pth', 'model23.pth', 'model22.pth', 'model20.pth', 'model28.pth', 'model25.pth', 'model21.pth']\n"
     ]
    }
   ],
   "source": [
    "batch = []\n",
    "drop = []\n",
    "learning = []\n",
    "channels = []\n",
    "hdim = []\n",
    "emb = []\n",
    "mph = []\n",
    "for i in ls_g3[0:10]:\n",
    "    learning.append(i[0].learning_rate)\n",
    "    batch.append(i[0].batch_size)\n",
    "    channels.append(i[0].num_channels)\n",
    "    drop.append(i[0].dropout_p)\n",
    "    hdim.append(i[0].hidden_dim)\n",
    "    emb.append(i[0].embedding_size)\n",
    "    mph.append(i[0].model_state_file)\n",
    "print(hdim)\n",
    "print(channels)\n",
    "print(learning)\n",
    "print(drop)\n",
    "print(batch)\n",
    "print(emb)\n",
    "print(mph)"
   ]
  },
  {
   "cell_type": "code",
   "execution_count": 55,
   "metadata": {},
   "outputs": [
    {
     "data": {
      "application/vnd.jupyter.widget-view+json": {
       "model_id": "5734da2a2fad45349139ad46bfde02d3",
       "version_major": 2,
       "version_minor": 0
      },
      "text/plain": [
       "HBox(children=(FloatProgress(value=0.0, description='training routine', max=25.0, style=ProgressStyle(descript…"
      ]
     },
     "metadata": {},
     "output_type": "display_data"
    },
    {
     "data": {
      "application/vnd.jupyter.widget-view+json": {
       "model_id": "a79a3fb2dd62432ead2bde096a9812f8",
       "version_major": 2,
       "version_minor": 0
      },
      "text/plain": [
       "HBox(children=(FloatProgress(value=0.0, description='split=train', max=209.0, style=ProgressStyle(description_…"
      ]
     },
     "metadata": {},
     "output_type": "display_data"
    },
    {
     "data": {
      "application/vnd.jupyter.widget-view+json": {
       "model_id": "4eae1094789643f2842370b189f8cb22",
       "version_major": 2,
       "version_minor": 0
      },
      "text/plain": [
       "HBox(children=(FloatProgress(value=0.0, description='split=val', max=52.0, style=ProgressStyle(description_wid…"
      ]
     },
     "metadata": {},
     "output_type": "display_data"
    }
   ],
   "source": [
    "config3 = Namespace( model_state_file='model26.pth',\n",
    "        hidden_dim=np.random.randint(50, 250), \n",
    "        num_channels=np.random.randint(400, 801), \n",
    "        learning_rate= np.random.randint(1,1000)/100000, \n",
    "        dropout_p=0.2, \n",
    "        batch_size=np.random.randint(50, 250),\n",
    "        embedding_size = np.random.randint(50, 250))\n",
    "conf3,train_state3,cls3 = manually_tune(config3)"
   ]
  },
  {
   "cell_type": "code",
   "execution_count": 56,
   "metadata": {},
   "outputs": [
    {
     "name": "stdout",
     "output_type": "stream",
     "text": [
      "Test loss: 0.3904056077202161;\n",
      "Test Accuracy: 83.56119791666669\n"
     ]
    },
    {
     "data": {
      "text/plain": [
       "Namespace(batch_size=56, dropout_p=0.2, embedding_size=172, hidden_dim=158, learning_rate=0.00557, model_state_file='model26.pth', num_channels=550)"
      ]
     },
     "execution_count": 56,
     "metadata": {},
     "output_type": "execute_result"
    }
   ],
   "source": [
    "class_test(cls3, train_state3)\n",
    "conf3"
   ]
  },
  {
   "cell_type": "markdown",
   "metadata": {},
   "source": [
    "### with Glove"
   ]
  },
  {
   "cell_type": "code",
   "execution_count": 36,
   "metadata": {},
   "outputs": [
    {
     "name": "stdout",
     "output_type": "stream",
     "text": [
      "Using pre-trained embeddings\n"
     ]
    }
   ],
   "source": [
    "args.use_glove = True\n",
    "# create dataset and vectorizer\n",
    "dataset = NewsDataset.load_dataset_and_make_vectorizer(args.news_csv)\n",
    "vectorizer = dataset.get_vectorizer()\n",
    "\n",
    "# Use GloVe or randomly initialized embeddings\n",
    "if args.use_glove:\n",
    "    words = vectorizer.title_vocab._token_to_idx.keys()  # 3409 unique words\n",
    "    embeddings = make_embedding_matrix(glove_filepath=args.glove_filepath,     # embeddings: (3409, 100)\n",
    "                                       words=words)\n",
    "    print(\"Using pre-trained embeddings\")\n",
    "else:\n",
    "    print(\"Not using pre-trained embeddings\")\n",
    "    embeddings = None"
   ]
  },
  {
   "cell_type": "code",
   "execution_count": 37,
   "metadata": {},
   "outputs": [
    {
     "data": {
      "application/vnd.jupyter.widget-view+json": {
       "model_id": "9bbe712753df4deaa37eb4ca7623cb80",
       "version_major": 2,
       "version_minor": 0
      },
      "text/plain": [
       "HBox(children=(FloatProgress(value=0.0, description='training routine', max=25.0, style=ProgressStyle(descript…"
      ]
     },
     "metadata": {},
     "output_type": "display_data"
    },
    {
     "data": {
      "application/vnd.jupyter.widget-view+json": {
       "model_id": "704f735ecbce4c699b3b33208176ab5e",
       "version_major": 2,
       "version_minor": 0
      },
      "text/plain": [
       "HBox(children=(FloatProgress(value=0.0, description='split=train', max=209.0, style=ProgressStyle(description_…"
      ]
     },
     "metadata": {},
     "output_type": "display_data"
    },
    {
     "data": {
      "application/vnd.jupyter.widget-view+json": {
       "model_id": "dd01aeb44c18423594142e3687d86078",
       "version_major": 2,
       "version_minor": 0
      },
      "text/plain": [
       "HBox(children=(FloatProgress(value=0.0, description='split=val', max=52.0, style=ProgressStyle(description_wid…"
      ]
     },
     "metadata": {},
     "output_type": "display_data"
    },
    {
     "data": {
      "application/vnd.jupyter.widget-view+json": {
       "model_id": "4afee07fb83d4d86a133e007f94acc96",
       "version_major": 2,
       "version_minor": 0
      },
      "text/plain": [
       "HBox(children=(FloatProgress(value=0.0, description='training routine', max=25.0, style=ProgressStyle(descript…"
      ]
     },
     "metadata": {},
     "output_type": "display_data"
    },
    {
     "data": {
      "application/vnd.jupyter.widget-view+json": {
       "model_id": "287f12832a304dae98d8fe622989829b",
       "version_major": 2,
       "version_minor": 0
      },
      "text/plain": [
       "HBox(children=(FloatProgress(value=0.0, description='split=train', max=209.0, style=ProgressStyle(description_…"
      ]
     },
     "metadata": {},
     "output_type": "display_data"
    },
    {
     "data": {
      "application/vnd.jupyter.widget-view+json": {
       "model_id": "b62d3965b31d4a86b0a1d389ecfed284",
       "version_major": 2,
       "version_minor": 0
      },
      "text/plain": [
       "HBox(children=(FloatProgress(value=0.0, description='split=val', max=52.0, style=ProgressStyle(description_wid…"
      ]
     },
     "metadata": {},
     "output_type": "display_data"
    },
    {
     "data": {
      "application/vnd.jupyter.widget-view+json": {
       "model_id": "65ca63b6176d4c5782e693d101f9f002",
       "version_major": 2,
       "version_minor": 0
      },
      "text/plain": [
       "HBox(children=(FloatProgress(value=0.0, description='training routine', max=25.0, style=ProgressStyle(descript…"
      ]
     },
     "metadata": {},
     "output_type": "display_data"
    },
    {
     "data": {
      "application/vnd.jupyter.widget-view+json": {
       "model_id": "4963b04f0d9b46f48e767801328bf34e",
       "version_major": 2,
       "version_minor": 0
      },
      "text/plain": [
       "HBox(children=(FloatProgress(value=0.0, description='split=train', max=209.0, style=ProgressStyle(description_…"
      ]
     },
     "metadata": {},
     "output_type": "display_data"
    },
    {
     "data": {
      "application/vnd.jupyter.widget-view+json": {
       "model_id": "967e54c1a51c42a6b6bb979509863487",
       "version_major": 2,
       "version_minor": 0
      },
      "text/plain": [
       "HBox(children=(FloatProgress(value=0.0, description='split=val', max=52.0, style=ProgressStyle(description_wid…"
      ]
     },
     "metadata": {},
     "output_type": "display_data"
    },
    {
     "data": {
      "application/vnd.jupyter.widget-view+json": {
       "model_id": "5de78893ee264619bf3d8be3d8974733",
       "version_major": 2,
       "version_minor": 0
      },
      "text/plain": [
       "HBox(children=(FloatProgress(value=0.0, description='training routine', max=25.0, style=ProgressStyle(descript…"
      ]
     },
     "metadata": {},
     "output_type": "display_data"
    },
    {
     "data": {
      "application/vnd.jupyter.widget-view+json": {
       "model_id": "128592c360af43b487fe6859d9783506",
       "version_major": 2,
       "version_minor": 0
      },
      "text/plain": [
       "HBox(children=(FloatProgress(value=0.0, description='split=train', max=209.0, style=ProgressStyle(description_…"
      ]
     },
     "metadata": {},
     "output_type": "display_data"
    },
    {
     "data": {
      "application/vnd.jupyter.widget-view+json": {
       "model_id": "390d8266793043308239328f57ae3224",
       "version_major": 2,
       "version_minor": 0
      },
      "text/plain": [
       "HBox(children=(FloatProgress(value=0.0, description='split=val', max=52.0, style=ProgressStyle(description_wid…"
      ]
     },
     "metadata": {},
     "output_type": "display_data"
    },
    {
     "data": {
      "application/vnd.jupyter.widget-view+json": {
       "model_id": "a2f967fcbd434f66a3090649cca3239d",
       "version_major": 2,
       "version_minor": 0
      },
      "text/plain": [
       "HBox(children=(FloatProgress(value=0.0, description='training routine', max=25.0, style=ProgressStyle(descript…"
      ]
     },
     "metadata": {},
     "output_type": "display_data"
    },
    {
     "data": {
      "application/vnd.jupyter.widget-view+json": {
       "model_id": "a6d3e3b6f10249039690ca94b58a01b8",
       "version_major": 2,
       "version_minor": 0
      },
      "text/plain": [
       "HBox(children=(FloatProgress(value=0.0, description='split=train', max=209.0, style=ProgressStyle(description_…"
      ]
     },
     "metadata": {},
     "output_type": "display_data"
    },
    {
     "data": {
      "application/vnd.jupyter.widget-view+json": {
       "model_id": "04d2cb2d4d24421bb399ecc63496feb2",
       "version_major": 2,
       "version_minor": 0
      },
      "text/plain": [
       "HBox(children=(FloatProgress(value=0.0, description='split=val', max=52.0, style=ProgressStyle(description_wid…"
      ]
     },
     "metadata": {},
     "output_type": "display_data"
    },
    {
     "data": {
      "application/vnd.jupyter.widget-view+json": {
       "model_id": "49f318f793144009946492acd99dd3a8",
       "version_major": 2,
       "version_minor": 0
      },
      "text/plain": [
       "HBox(children=(FloatProgress(value=0.0, description='training routine', max=25.0, style=ProgressStyle(descript…"
      ]
     },
     "metadata": {},
     "output_type": "display_data"
    },
    {
     "data": {
      "application/vnd.jupyter.widget-view+json": {
       "model_id": "9e5618252ee945278ba8a6c975fd0017",
       "version_major": 2,
       "version_minor": 0
      },
      "text/plain": [
       "HBox(children=(FloatProgress(value=0.0, description='split=train', max=209.0, style=ProgressStyle(description_…"
      ]
     },
     "metadata": {},
     "output_type": "display_data"
    },
    {
     "data": {
      "application/vnd.jupyter.widget-view+json": {
       "model_id": "f2f167f288fe4b83b412e8330877fdbd",
       "version_major": 2,
       "version_minor": 0
      },
      "text/plain": [
       "HBox(children=(FloatProgress(value=0.0, description='split=val', max=52.0, style=ProgressStyle(description_wid…"
      ]
     },
     "metadata": {},
     "output_type": "display_data"
    },
    {
     "data": {
      "application/vnd.jupyter.widget-view+json": {
       "model_id": "6eea9850ca1b47d9a90d368634d64cbc",
       "version_major": 2,
       "version_minor": 0
      },
      "text/plain": [
       "HBox(children=(FloatProgress(value=0.0, description='training routine', max=25.0, style=ProgressStyle(descript…"
      ]
     },
     "metadata": {},
     "output_type": "display_data"
    },
    {
     "data": {
      "application/vnd.jupyter.widget-view+json": {
       "model_id": "e6dd775d0e244b149e6de07aa7fe200f",
       "version_major": 2,
       "version_minor": 0
      },
      "text/plain": [
       "HBox(children=(FloatProgress(value=0.0, description='split=train', max=209.0, style=ProgressStyle(description_…"
      ]
     },
     "metadata": {},
     "output_type": "display_data"
    },
    {
     "data": {
      "application/vnd.jupyter.widget-view+json": {
       "model_id": "d19e8af04de4464a854883957bc19f37",
       "version_major": 2,
       "version_minor": 0
      },
      "text/plain": [
       "HBox(children=(FloatProgress(value=0.0, description='split=val', max=52.0, style=ProgressStyle(description_wid…"
      ]
     },
     "metadata": {},
     "output_type": "display_data"
    },
    {
     "data": {
      "application/vnd.jupyter.widget-view+json": {
       "model_id": "8234683c7f64416eb12cfd3d31052779",
       "version_major": 2,
       "version_minor": 0
      },
      "text/plain": [
       "HBox(children=(FloatProgress(value=0.0, description='training routine', max=25.0, style=ProgressStyle(descript…"
      ]
     },
     "metadata": {},
     "output_type": "display_data"
    },
    {
     "data": {
      "application/vnd.jupyter.widget-view+json": {
       "model_id": "8f4fa7b7dcb74710bdb8a239e6d5e35c",
       "version_major": 2,
       "version_minor": 0
      },
      "text/plain": [
       "HBox(children=(FloatProgress(value=0.0, description='split=train', max=209.0, style=ProgressStyle(description_…"
      ]
     },
     "metadata": {},
     "output_type": "display_data"
    },
    {
     "data": {
      "application/vnd.jupyter.widget-view+json": {
       "model_id": "e00452015a984eb19c75b916ed0709e8",
       "version_major": 2,
       "version_minor": 0
      },
      "text/plain": [
       "HBox(children=(FloatProgress(value=0.0, description='split=val', max=52.0, style=ProgressStyle(description_wid…"
      ]
     },
     "metadata": {},
     "output_type": "display_data"
    },
    {
     "data": {
      "application/vnd.jupyter.widget-view+json": {
       "model_id": "92a6b35f383e4878a8aea1916621122e",
       "version_major": 2,
       "version_minor": 0
      },
      "text/plain": [
       "HBox(children=(FloatProgress(value=0.0, description='training routine', max=25.0, style=ProgressStyle(descript…"
      ]
     },
     "metadata": {},
     "output_type": "display_data"
    },
    {
     "data": {
      "application/vnd.jupyter.widget-view+json": {
       "model_id": "ed7e891c821f432e9057e3a001bbf485",
       "version_major": 2,
       "version_minor": 0
      },
      "text/plain": [
       "HBox(children=(FloatProgress(value=0.0, description='split=train', max=209.0, style=ProgressStyle(description_…"
      ]
     },
     "metadata": {},
     "output_type": "display_data"
    },
    {
     "data": {
      "application/vnd.jupyter.widget-view+json": {
       "model_id": "2d7a2050594d452181f094ba6549c0e6",
       "version_major": 2,
       "version_minor": 0
      },
      "text/plain": [
       "HBox(children=(FloatProgress(value=0.0, description='split=val', max=52.0, style=ProgressStyle(description_wid…"
      ]
     },
     "metadata": {},
     "output_type": "display_data"
    },
    {
     "data": {
      "application/vnd.jupyter.widget-view+json": {
       "model_id": "df9020c950a34d6393db739ded415f06",
       "version_major": 2,
       "version_minor": 0
      },
      "text/plain": [
       "HBox(children=(FloatProgress(value=0.0, description='training routine', max=25.0, style=ProgressStyle(descript…"
      ]
     },
     "metadata": {},
     "output_type": "display_data"
    },
    {
     "data": {
      "application/vnd.jupyter.widget-view+json": {
       "model_id": "63bcab6a49bb40f8825c571c66b5a4da",
       "version_major": 2,
       "version_minor": 0
      },
      "text/plain": [
       "HBox(children=(FloatProgress(value=0.0, description='split=train', max=209.0, style=ProgressStyle(description_…"
      ]
     },
     "metadata": {},
     "output_type": "display_data"
    },
    {
     "data": {
      "application/vnd.jupyter.widget-view+json": {
       "model_id": "6125a33d916d484c9180f05bd68b1157",
       "version_major": 2,
       "version_minor": 0
      },
      "text/plain": [
       "HBox(children=(FloatProgress(value=0.0, description='split=val', max=52.0, style=ProgressStyle(description_wid…"
      ]
     },
     "metadata": {},
     "output_type": "display_data"
    }
   ],
   "source": [
    "ls_g4 = []\n",
    "for i in range(10):\n",
    "    num = np.random.randint(50, 250)\n",
    "    config = Namespace( model_state_file='model' + str(i+30) + '.pth',\n",
    "        hidden_dim= num, \n",
    "        num_channels=np.random.randint(400, 801), \n",
    "        learning_rate= np.random.randint(1,1000)/10000, \n",
    "        dropout_p=0.1, \n",
    "        batch_size=num,\n",
    "        embedding_size = 100)\n",
    "    conf,train_state,cls = manually_tune(config)\n",
    "    ls_g4.append((conf,train_state,cls))\n",
    "ls_g4.sort(reverse = True, key = lambda x:np.mean(x[1]['val_acc']))"
   ]
  },
  {
   "cell_type": "code",
   "execution_count": 38,
   "metadata": {},
   "outputs": [
    {
     "name": "stdout",
     "output_type": "stream",
     "text": [
      "Test loss: 0.412032339721918;\n",
      "Test Accuracy: 82.38932291666667\n",
      "Test loss: 0.38851757968465483;\n",
      "Test Accuracy: 82.51953125\n",
      "Test loss: 0.42900310456752766;\n",
      "Test Accuracy: 81.34765625000001\n",
      "Test loss: 0.42887535194555926;\n",
      "Test Accuracy: 80.33854166666666\n",
      "Test loss: 0.41893529767791426;\n",
      "Test Accuracy: 81.70572916666667\n",
      "Test loss: 0.4371847858031591;\n",
      "Test Accuracy: 79.78515625\n",
      "Test loss: 0.5672432966530324;\n",
      "Test Accuracy: 72.75390625\n",
      "Test loss: 0.694110835591952;\n",
      "Test Accuracy: 48.56770833333333\n",
      "Test loss: 0.6893650293350221;\n",
      "Test Accuracy: 53.548177083333336\n",
      "Test loss: 0.692975364625454;\n",
      "Test Accuracy: 51.46484375\n"
     ]
    }
   ],
   "source": [
    "for i in range(10):\n",
    "    class_test(ls_g4[i][2], ls_g4[i][1])"
   ]
  },
  {
   "cell_type": "code",
   "execution_count": 39,
   "metadata": {},
   "outputs": [
    {
     "name": "stdout",
     "output_type": "stream",
     "text": [
      "[143, 232, 164, 122, 217, 197, 202, 164, 201, 115]\n",
      "[662, 746, 482, 665, 567, 638, 529, 505, 589, 460]\n",
      "[0.0023, 0.0024, 0.0085, 0.0391, 0.0347, 0.0338, 0.0796, 0.0873, 0.0861, 0.0728]\n",
      "[0.1, 0.1, 0.1, 0.1, 0.1, 0.1, 0.1, 0.1, 0.1, 0.1]\n",
      "[143, 232, 164, 122, 217, 197, 202, 164, 201, 115]\n",
      "[100, 100, 100, 100, 100, 100, 100, 100, 100, 100]\n",
      "['model36.pth', 'model34.pth', 'model32.pth', 'model33.pth', 'model31.pth', 'model39.pth', 'model35.pth', 'model37.pth', 'model30.pth', 'model38.pth']\n"
     ]
    }
   ],
   "source": [
    "batch = []\n",
    "drop = []\n",
    "learning = []\n",
    "channels = []\n",
    "hdim = []\n",
    "emb = []\n",
    "mph = []\n",
    "for i in ls_g4[0:10]:\n",
    "    learning.append(i[0].learning_rate)\n",
    "    batch.append(i[0].batch_size)\n",
    "    channels.append(i[0].num_channels)\n",
    "    drop.append(i[0].dropout_p)\n",
    "    hdim.append(i[0].hidden_dim)\n",
    "    emb.append(i[0].embedding_size)\n",
    "    mph.append(i[0].model_state_file)\n",
    "print(hdim)\n",
    "print(channels)\n",
    "print(learning)\n",
    "print(drop)\n",
    "print(batch)\n",
    "print(emb)\n",
    "print(mph)"
   ]
  },
  {
   "cell_type": "markdown",
   "metadata": {},
   "source": [
    "### Inference wih the best performed model"
   ]
  },
  {
   "cell_type": "code",
   "execution_count": 61,
   "metadata": {},
   "outputs": [],
   "source": [
    "# Preprocess the reviews\n",
    "def preprocess_text(text):\n",
    "    text = ' '.join(word.lower() for word in text.split(\" \"))\n",
    "    text = re.sub(r\"([.,!?])\", r\" \\1 \", text)\n",
    "    text = re.sub(r\"[^a-zA-Z.,!?]+\", r\" \", text)\n",
    "    return text"
   ]
  },
  {
   "cell_type": "code",
   "execution_count": 62,
   "metadata": {},
   "outputs": [],
   "source": [
    "def predict_category(title, classifier, vectorizer, max_length):\n",
    "    \"\"\"Predict a News category for a new title\n",
    "    \n",
    "    Args:\n",
    "        title (str): a raw title string\n",
    "        classifier (NewsClassifier): an instance of the trained classifier\n",
    "        vectorizer (NewsVectorizer): the corresponding vectorizer\n",
    "        max_length (int): the max sequence length\n",
    "            Note: CNNs are sensitive to the input data tensor size. \n",
    "                  This ensures to keep it the same size as the training data\n",
    "    \"\"\"\n",
    "    title = preprocess_text(title)\n",
    "    vectorized_title = \\\n",
    "        torch.tensor(vectorizer.vectorize(title, vector_length=max_length))\n",
    "    result = classifier(vectorized_title.unsqueeze(0), apply_softmax=True)\n",
    "    probability_values, indices = result.max(dim=1)\n",
    "    predicted_category = vectorizer.category_vocab.lookup_index(indices.item())\n",
    "\n",
    "    return {'category': predicted_category, \n",
    "            'probability': probability_values.item()}"
   ]
  },
  {
   "cell_type": "code",
   "execution_count": 66,
   "metadata": {},
   "outputs": [],
   "source": [
    "def get_samples():\n",
    "    samples = {}\n",
    "    for cat in dataset.val_df.category.unique():\n",
    "        samples[cat] = dataset.val_df.title[dataset.val_df.category==cat].tolist()[:10]\n",
    "    return samples\n",
    "\n",
    "val_samples = get_samples()"
   ]
  },
  {
   "cell_type": "code",
   "execution_count": 67,
   "metadata": {},
   "outputs": [
    {
     "name": "stdout",
     "output_type": "stream",
     "text": [
      "True Category: Positive\n",
      "==============================\n",
      "Prediction: Positive (p=0.95)\n",
      "\t + Sample: us standing taking a hit b c of how badly we are handling coronavirus at home amp how little we re doing for others . china , despite its being where the virus began amp its dropping the ball at first , gaining influence b c it is meeting the challenge at home amp offering help to others\n",
      "Prediction: Positive (p=0.84)\n",
      "\t + Sample: i wonder how many men will be like the chap i seen in the supermarket now . . . he was on his hands and knees rummaging through hair color while on the phone to his other half . is it dark or medium ash brown ? covid irelandlockdown coronavirus https t . co ezos p rt\n",
      "Prediction: Positive (p=0.91)\n",
      "\t + Sample:  boblister poole ctsi uk just know people will remember when this is over . anyone affected please contact the consumer helpline on this is what they said jhootspharmacy i hope your taking note npa covid taking advant\n",
      "Prediction: Positive (p=0.93)\n",
      "\t + Sample: hey y all just wanna share my nonconventional experience with covid i m vegan mostly alkaline i started showing symptoms of sickness about a week ago amp today i tested positive for covid i have no idea where i contracted it my guess grocery store or gas\n",
      "Prediction: Positive (p=1.00)\n",
      "\t + Sample: it s am on a saturday morning and i m in a substantial queue at the supermarket . on a positive , i got to see a beautiful sunrise . making the best of it , staying positive covid coronavirus staypositive gratitude https t . co oiwu bqdb\n",
      "Prediction: Negative (p=0.73)\n",
      "\t + Sample: in december when this coronavirus news first started coming out i had a dream that things were going to get much worse . i tweeted it , no one believed me . when i said you should stock up on food in january you laughed at me , i tell you a rd time get ready . my dreams don t lie . \n",
      "Prediction: Negative (p=0.78)\n",
      "\t + Sample: what the shops are doing is obeying the law of demand and supply . if we want an ethical distribution of essential consumer items , then we must look to socialism . that s what we had with rationing in ww , under an ostensibly conservative pm . coronavirus covid uk borisout\n",
      "Prediction: Positive (p=0.99)\n",
      "\t + Sample: your safety is our number one priority ! check out consumer reports for the most up to date reporting on the novel coronavirus . https t . co yhugg ilac https t . co getojxs rk\n",
      "Prediction: Positive (p=0.84)\n",
      "\t + Sample:  of shoppers in believe they ll grab a better deal online compared to shopping in high street stores . internetfacts kloudportal committedtobreakthechain kloudportal coronavirus covid https t . co qn iqhytij\n",
      "Prediction: Positive (p=1.00)\n",
      "\t + Sample: automatic fruit potato peeler . make your order via . remember to keep safe during this covid outbreak . online shopping is a great idea for you and your family . household homedecor kitchendecor glammyhomekenya https t . co l oxmbfq\n",
      "------------------------------\n",
      "\n",
      "True Category: Negative\n",
      "==============================\n",
      "Prediction: Negative (p=0.91)\n",
      "\t + Sample:  sergeantnemo me the covid and the arms of our empty grocery store\n",
      "Prediction: Negative (p=0.63)\n",
      "\t + Sample:  coronavirus hits the economy where it hurts consumer confidence . and we haven t seen the worst of it . via vtg https t . co z pux babh\n",
      "Prediction: Negative (p=0.92)\n",
      "\t + Sample: q had groceries delivered from supermarket should i wash the food containers a dr williams of says no evidence is being spread that way but you can wash hands after handling to lower risk more\n",
      "Prediction: Negative (p=1.00)\n",
      "\t + Sample: i ve got such anxiety today i had a panic attack after someone at the supermarket touched me i cry all day i don t know what to do people don t take the whole situation seriously in germany what is wrong with people \n",
      "Prediction: Negative (p=0.99)\n",
      "\t + Sample: survey asian consumer sentiment during the covid crisis https t . co imrikm dpc via mckinsey\n",
      "Prediction: Negative (p=0.90)\n",
      "\t + Sample: motilal oswal mosl morning india april . technology expect covid uncertainty to overshadow q results . consumer commodity costs largely benign . pnb housing finance aum declines sequentially morning india https t . co sdrbzlzje equity stocks https t . co vmylgedsrl\n",
      "Prediction: Negative (p=0.58)\n",
      "\t + Sample: reporters in the wh briefing room are sitting in a checkerboard pattern , leaving spaces , prob . less than the recommended ft . cspan caller is worried , pregnant , living with her elderly mother , and a grocery store worker . bound job by insurance . whcovidbriefing coronavirus\n",
      "Prediction: Negative (p=0.98)\n",
      "\t + Sample: with milk prices plunging to lows dairy cooperatives are dumping the product to curb an oversupply during the lockdown more\n",
      "Prediction: Negative (p=0.68)\n",
      "\t + Sample:  devonesawa i m a frontline worker at a grocery store ! i m in self isolation because i m showing symptoms of covid . testing is limited here so i can t get tested . it s getting scary now . . . . i hope i don t pass this on to my kids ? covid stayh\n",
      "Prediction: Positive (p=0.68)\n",
      "\t + Sample: how are falling oil prices and the outbreak affecting emerging markets hear expert analysis from moody s team in the first podcast in a new series see our covid hub\n",
      "------------------------------\n",
      "\n"
     ]
    }
   ],
   "source": [
    "#title = input(\"Enter a news title to classify: \")\n",
    "\n",
    "cls = cls.to(\"cpu\")\n",
    "\n",
    "for truth, sample_group in val_samples.items():\n",
    "    print(f\"True Category: {truth}\")\n",
    "    print(\"=\"*30)\n",
    "    for sample in sample_group:\n",
    "        prediction = predict_category(sample, cls, \n",
    "                                      vectorizer, dataset._max_seq_length + 1)\n",
    "        print(\"Prediction: {} (p={:0.2f})\".format(prediction['category'],\n",
    "                                                  prediction['probability']))\n",
    "        print(\"\\t + Sample: {}\".format(sample))\n",
    "    print(\"-\"*30 + \"\\n\")"
   ]
  },
  {
   "cell_type": "code",
   "execution_count": 70,
   "metadata": {},
   "outputs": [
    {
     "name": "stdout",
     "output_type": "stream",
     "text": [
      "['Negative', 'Positive']\n"
     ]
    }
   ],
   "source": [
    "rating_classes = []\n",
    "for i in range(len(dataset._vectorizer.category_vocab)):\n",
    "    rating_classes.append(dataset._vectorizer.category_vocab.lookup_index(i))\n",
    "print(rating_classes)"
   ]
  },
  {
   "cell_type": "code",
   "execution_count": 72,
   "metadata": {},
   "outputs": [
    {
     "name": "stdout",
     "output_type": "stream",
     "text": [
      "Test loss: 0.36672539760669065;\n",
      "Test Accuracy: 84.27734375\n",
      "True       Negative  Positive\n",
      "Predicted                    \n",
      "Negative       1307       204\n",
      "Positive        279      1282\n"
     ]
    }
   ],
   "source": [
    "from sklearn.metrics import classification_report, confusion_matrix, accuracy_score\n",
    "import pandas as pd\n",
    "y_pred_list, y_target_list = class_test(cls, train_state)\n",
    "cm = confusion_matrix(y_target_list, y_pred_list)\n",
    "cm_df = pd.DataFrame(cm.T, index=rating_classes, columns=rating_classes)\n",
    "cm_df.index.name = 'Predicted'\n",
    "cm_df.columns.name = 'True'\n",
    "print(cm_df)"
   ]
  }
 ],
 "metadata": {
  "kernelspec": {
   "display_name": "Python 3",
   "language": "python",
   "name": "python3"
  },
  "language_info": {
   "codemirror_mode": {
    "name": "ipython",
    "version": 3
   },
   "file_extension": ".py",
   "mimetype": "text/x-python",
   "name": "python",
   "nbconvert_exporter": "python",
   "pygments_lexer": "ipython3",
   "version": "3.7.6"
  },
  "toc": {
   "colors": {
    "hover_highlight": "#DAA520",
    "running_highlight": "#FF0000",
    "selected_highlight": "#FFD700"
   },
   "moveMenuLeft": true,
   "nav_menu": {
    "height": "138px",
    "width": "252px"
   },
   "navigate_menu": true,
   "number_sections": true,
   "sideBar": true,
   "skip_h1_title": false,
   "threshold": "5",
   "title_cell": "Table of Contents",
   "title_sidebar": "Contents",
   "toc_cell": false,
   "toc_position": {},
   "toc_section_display": "block",
   "toc_window_display": false
  }
 },
 "nbformat": 4,
 "nbformat_minor": 2
}
